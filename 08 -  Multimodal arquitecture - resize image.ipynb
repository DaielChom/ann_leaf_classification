{
 "cells": [
  {
   "cell_type": "markdown",
   "metadata": {
    "colab_type": "text",
    "id": "G5pxDwWovsNe"
   },
   "source": [
    "#### Preparing data\n",
    "Run the next cells to download and prepare the datasets and util functions."
   ]
  },
  {
   "cell_type": "code",
   "execution_count": 1,
   "metadata": {
    "colab": {},
    "colab_type": "code",
    "id": "b2h6xT9xvsNi"
   },
   "outputs": [],
   "source": [
    "import sys\n",
    "download_data = False\n",
    "\n",
    "if 'google.colab' in sys.modules:\n",
    "    download_data = True"
   ]
  },
  {
   "cell_type": "code",
   "execution_count": 2,
   "metadata": {
    "colab": {},
    "colab_type": "code",
    "id": "AjZxQccqvsNu"
   },
   "outputs": [],
   "source": [
    "if download_data:\n",
    "    !wget --no-cache -O init.py -q https://raw.githubusercontent.com/DaielChom/ann_leaf_classification/master/init.py\n",
    "    from init import download_utils, unzip_leaf_dataset, dataset_dir\n",
    "    download_utils(force_download=True)"
   ]
  },
  {
   "cell_type": "code",
   "execution_count": 3,
   "metadata": {
    "colab": {
     "base_uri": "https://localhost:8080/",
     "height": 208
    },
    "colab_type": "code",
    "executionInfo": {
     "elapsed": 4995,
     "status": "ok",
     "timestamp": 1588046988670,
     "user": {
      "displayName": "DANIEL CARVAJAL PATINO",
      "photoUrl": "https://lh3.googleusercontent.com/a-/AOh14GhxBZtj3mQtzEEZFtBw3AsNbetTt5sdp9LZMJsb=s64",
      "userId": "02012202667471862451"
     },
     "user_tz": 300
    },
    "id": "1Xm715BnvsN5",
    "outputId": "0299711e-55dc-4b1e-8c73-1699566e3796"
   },
   "outputs": [],
   "source": [
    "if download_data:\n",
    "    !mkdir ./local/datasets/\n",
    "    !wget --load-cookies /tmp/cookies.txt \"https://docs.google.com/uc?export=download&confirm=$(wget --quiet --save-cookies /tmp/cookies.txt --keep-session-cookies --no-check-certificate 'https://docs.google.com/uc?export=download&id=1g5MPhz2YEW5nyuUqacQ_GVWpeDjVG-Cf' -O- | sed -rn 's/.*confirm=([0-9A-Za-z_]+).*/\\1\\n/p')&id=1g5MPhz2YEW5nyuUqacQ_GVWpeDjVG-Cf\" -O local/datasets/leaf.zip && rm -rf /tmp/cookies.txt"
   ]
  },
  {
   "cell_type": "code",
   "execution_count": 4,
   "metadata": {
    "colab": {
     "base_uri": "https://localhost:8080/",
     "height": 331
    },
    "colab_type": "code",
    "executionInfo": {
     "elapsed": 4216,
     "status": "error",
     "timestamp": 1588046989116,
     "user": {
      "displayName": "DANIEL CARVAJAL PATINO",
      "photoUrl": "https://lh3.googleusercontent.com/a-/AOh14GhxBZtj3mQtzEEZFtBw3AsNbetTt5sdp9LZMJsb=s64",
      "userId": "02012202667471862451"
     },
     "user_tz": 300
    },
    "id": "IOKzyEGivsOB",
    "outputId": "397724bb-73b1-4d9e-a9a0-7ea6f55fe99a"
   },
   "outputs": [],
   "source": [
    "if download_data:\n",
    "    unzip_leaf_dataset()"
   ]
  },
  {
   "cell_type": "markdown",
   "metadata": {
    "colab_type": "text",
    "id": "LpXdXJURvsOJ"
   },
   "source": [
    "#### Notebook start"
   ]
  },
  {
   "cell_type": "code",
   "execution_count": 5,
   "metadata": {
    "colab": {},
    "colab_type": "code",
    "id": "nqgQl8hCvsOK"
   },
   "outputs": [],
   "source": [
    "import os\n",
    "import local.lib as lib\n",
    "import random\n",
    "import numpy as np\n",
    "import pandas as pd\n",
    "import matplotlib.pyplot as plt\n",
    "\n",
    "from init import dataset_dir\n",
    "from sklearn.metrics import confusion_matrix\n",
    "from tensorflow.keras import Sequential, Model\n",
    "from tensorflow.keras.layers import Dense, Dropout, Flatten, concatenate, Input, Conv2D,Flatten, LeakyReLU, ReLU, BatchNormalization\n",
    "from tensorflow.keras.backend import clear_session\n",
    "\n",
    "from importlib import reload\n",
    "reload(lib)\n",
    "\n",
    "import warnings\n",
    "warnings.filterwarnings('ignore')"
   ]
  },
  {
   "cell_type": "markdown",
   "metadata": {
    "colab_type": "text",
    "id": "8huC4kjmvsOY"
   },
   "source": [
    "# Multimodal arquitecture\n"
   ]
  },
  {
   "cell_type": "code",
   "execution_count": 6,
   "metadata": {
    "colab": {},
    "colab_type": "code",
    "id": "u_09875DvsOZ"
   },
   "outputs": [],
   "source": [
    "split=0.7"
   ]
  },
  {
   "cell_type": "code",
   "execution_count": 7,
   "metadata": {
    "colab": {},
    "colab_type": "code",
    "id": "L_83_2ZDvsOh"
   },
   "outputs": [
    {
     "name": "stdout",
     "output_type": "stream",
     "text": [
      "The intersection between train and test set is 0\n",
      "There are 99 classes for the classification task.\n"
     ]
    }
   ],
   "source": [
    "X_train_f, _, X_train_ri, y_train, X_test_f, _, X_test_ri, y_test, species, num_classes, _, _ = lib.get_splitted_data(data_dir=dataset_dir, check_id_sets=True, verbose=1, use_resize_images=True, split=split)"
   ]
  },
  {
   "cell_type": "markdown",
   "metadata": {
    "colab_type": "text",
    "id": "VLJAvjKkvsOo"
   },
   "source": [
    "#### target onehot"
   ]
  },
  {
   "cell_type": "code",
   "execution_count": 8,
   "metadata": {
    "colab": {},
    "colab_type": "code",
    "id": "MYgtOobNvsOp"
   },
   "outputs": [],
   "source": [
    "y_train_oh = np.eye(num_classes)[y_train]\n",
    "y_test_oh  = np.eye(num_classes)[y_test]"
   ]
  },
  {
   "cell_type": "code",
   "execution_count": 9,
   "metadata": {
    "colab": {},
    "colab_type": "code",
    "id": "RII-NIAVvsOw"
   },
   "outputs": [],
   "source": [
    "X_train_ri = X_train_ri.reshape((X_train_ri.shape[0], X_train_ri.shape[1], X_train_ri.shape[2], 1))\n",
    "X_test_ri = X_test_ri.reshape((X_test_ri.shape[0], X_test_ri.shape[1], X_test_ri.shape[2], 1))"
   ]
  },
  {
   "cell_type": "code",
   "execution_count": 10,
   "metadata": {
    "colab": {},
    "colab_type": "code",
    "id": "WY2roTN-vsO1"
   },
   "outputs": [
    {
     "data": {
      "text/plain": [
       "((693, 194), (693, 128, 128, 1), (693, 99))"
      ]
     },
     "execution_count": 10,
     "metadata": {},
     "output_type": "execute_result"
    }
   ],
   "source": [
    "X_train_f.shape, X_train_ri.shape, y_train_oh.shape"
   ]
  },
  {
   "cell_type": "code",
   "execution_count": 11,
   "metadata": {
    "colab": {},
    "colab_type": "code",
    "id": "EI9ENaM8vsO8"
   },
   "outputs": [
    {
     "data": {
      "text/plain": [
       "((297, 194), (297, 128, 128, 1), (297, 99))"
      ]
     },
     "execution_count": 11,
     "metadata": {},
     "output_type": "execute_result"
    }
   ],
   "source": [
    "X_test_f.shape, X_test_ri.shape, y_test_oh.shape"
   ]
  },
  {
   "cell_type": "markdown",
   "metadata": {
    "colab_type": "text",
    "id": "ESs6_1rTvsPC"
   },
   "source": [
    "## Models"
   ]
  },
  {
   "cell_type": "code",
   "execution_count": 0,
   "metadata": {
    "colab": {},
    "colab_type": "code",
    "id": "Rnpg0cjTvsPD"
   },
   "outputs": [],
   "source": [
    "def model_OD1(input_dim, extra_info_dim, num_classes):\n",
    "    \n",
    "    clear_session()\n",
    "    inp1 = Input(shape=(input_dim[1],input_dim[2],1))\n",
    "    l11 = Conv2D(16, (7,7))(inp1)\n",
    "    acv1 = ReLU()(l11)\n",
    "    l12 = Flatten()(acv1)\n",
    "\n",
    "    inp2 = Input(shape=(extra_info_dim,))\n",
    "    cc1 = concatenate([l12, inp2], axis=1)\n",
    "    \n",
    "    l13 =  Dense(256)(cc1)\n",
    "    acv2 = ReLU()(l13)\n",
    "       \n",
    "    output = Dense(num_classes, activation='softmax')(acv2)\n",
    "  \n",
    "    model = Model(inputs=[inp1, inp2], outputs=output)\n",
    "    model.compile(optimizer='RMSprop', loss='categorical_crossentropy', metrics=[\"accuracy\"])\n",
    "    model.reset_states()\n",
    "    \n",
    "    return model\n",
    "\n"
   ]
  },
  {
   "cell_type": "code",
   "execution_count": 0,
   "metadata": {
    "colab": {
     "base_uri": "https://localhost:8080/",
     "height": 486
    },
    "colab_type": "code",
    "executionInfo": {
     "elapsed": 4606,
     "status": "ok",
     "timestamp": 1588044957645,
     "user": {
      "displayName": "DANIEL CARVAJAL PATINO",
      "photoUrl": "https://lh3.googleusercontent.com/a-/AOh14GhxBZtj3mQtzEEZFtBw3AsNbetTt5sdp9LZMJsb=s64",
      "userId": "02012202667471862451"
     },
     "user_tz": 300
    },
    "id": "NNjWjpHhvsPK",
    "outputId": "6b9b83f1-e0ab-4a63-87b5-232e28c76643",
    "scrolled": false
   },
   "outputs": [
    {
     "name": "stdout",
     "output_type": "stream",
     "text": [
      "Model: \"model\"\n",
      "__________________________________________________________________________________________________\n",
      "Layer (type)                    Output Shape         Param #     Connected to                     \n",
      "==================================================================================================\n",
      "input_1 (InputLayer)            [(None, 128, 128, 1) 0                                            \n",
      "__________________________________________________________________________________________________\n",
      "conv2d (Conv2D)                 (None, 122, 122, 16) 800         input_1[0][0]                    \n",
      "__________________________________________________________________________________________________\n",
      "re_lu (ReLU)                    (None, 122, 122, 16) 0           conv2d[0][0]                     \n",
      "__________________________________________________________________________________________________\n",
      "flatten (Flatten)               (None, 238144)       0           re_lu[0][0]                      \n",
      "__________________________________________________________________________________________________\n",
      "input_2 (InputLayer)            [(None, 194)]        0                                            \n",
      "__________________________________________________________________________________________________\n",
      "concatenate (Concatenate)       (None, 238338)       0           flatten[0][0]                    \n",
      "                                                                 input_2[0][0]                    \n",
      "__________________________________________________________________________________________________\n",
      "dense (Dense)                   (None, 256)          61014784    concatenate[0][0]                \n",
      "__________________________________________________________________________________________________\n",
      "re_lu_1 (ReLU)                  (None, 256)          0           dense[0][0]                      \n",
      "__________________________________________________________________________________________________\n",
      "dense_1 (Dense)                 (None, 99)           25443       re_lu_1[0][0]                    \n",
      "==================================================================================================\n",
      "Total params: 61,041,027\n",
      "Trainable params: 61,041,027\n",
      "Non-trainable params: 0\n",
      "__________________________________________________________________________________________________\n"
     ]
    }
   ],
   "source": [
    "model = model_OD1(input_dim=X_train_ri.shape, extra_info_dim=X_train_f.shape[1], num_classes=num_classes)\n",
    "model.summary()"
   ]
  },
  {
   "cell_type": "code",
   "execution_count": 0,
   "metadata": {
    "colab": {
     "base_uri": "https://localhost:8080/",
     "height": 191
    },
    "colab_type": "code",
    "executionInfo": {
     "elapsed": 124240,
     "status": "ok",
     "timestamp": 1588045077432,
     "user": {
      "displayName": "DANIEL CARVAJAL PATINO",
      "photoUrl": "https://lh3.googleusercontent.com/a-/AOh14GhxBZtj3mQtzEEZFtBw3AsNbetTt5sdp9LZMJsb=s64",
      "userId": "02012202667471862451"
     },
     "user_tz": 300
    },
    "id": "QUZ74nykvsPO",
    "outputId": "e0da520c-c783-4318-8187-118efb95e944",
    "scrolled": false
   },
   "outputs": [
    {
     "name": "stdout",
     "output_type": "stream",
     "text": [
      "Epoch 1/5\n",
      "35/35 [==============================] - 23s 667ms/step - loss: 14.5306 - accuracy: 0.0678\n",
      "Epoch 2/5\n",
      "35/35 [==============================] - 23s 662ms/step - loss: 1.8371 - accuracy: 0.5815\n",
      "Epoch 3/5\n",
      "35/35 [==============================] - 23s 660ms/step - loss: 0.4905 - accuracy: 0.8802\n",
      "Epoch 4/5\n",
      "35/35 [==============================] - 23s 664ms/step - loss: 0.0738 - accuracy: 0.9856\n",
      "Epoch 5/5\n",
      "35/35 [==============================] - 23s 665ms/step - loss: 0.0430 - accuracy: 0.9899\n"
     ]
    }
   ],
   "source": [
    "history = model.fit([X_train_ri, X_train_f], y_train_oh, epochs=5, batch_size=20)"
   ]
  },
  {
   "cell_type": "code",
   "execution_count": 0,
   "metadata": {
    "colab": {
     "base_uri": "https://localhost:8080/",
     "height": 244
    },
    "colab_type": "code",
    "executionInfo": {
     "elapsed": 123879,
     "status": "ok",
     "timestamp": 1588045077660,
     "user": {
      "displayName": "DANIEL CARVAJAL PATINO",
      "photoUrl": "https://lh3.googleusercontent.com/a-/AOh14GhxBZtj3mQtzEEZFtBw3AsNbetTt5sdp9LZMJsb=s64",
      "userId": "02012202667471862451"
     },
     "user_tz": 300
    },
    "id": "u61wdZJtvsPV",
    "outputId": "e5055afc-7c2d-4ef0-a0f4-7fc185a2e9f4"
   },
   "outputs": [
    {
     "data": {
      "text/plain": [
       "Text(0.5, 1.0, 'Train performance')"
      ]
     },
     "execution_count": 185,
     "metadata": {
      "tags": []
     },
     "output_type": "execute_result"
    },
    {
     "data": {
      "image/png": "[encoded data removed]",
      "text/plain": [
       "<Figure size 720x216 with 1 Axes>"
      ]
     },
     "metadata": {
      "needs_background": "light",
      "tags": []
     },
     "output_type": "display_data"
    }
   ],
   "source": [
    "plt.figure(figsize=(10,3))\n",
    "plt.plot(history.history[\"loss\"], label=\"loss\", marker=\"o\")\n",
    "plt.plot(history.history[\"accuracy\"], label=\"accuracy\", marker=\"o\")\n",
    "plt.grid()\n",
    "plt.legend()\n",
    "plt.title(\"Train performance\")"
   ]
  },
  {
   "cell_type": "code",
   "execution_count": 0,
   "metadata": {
    "colab": {
     "base_uri": "https://localhost:8080/",
     "height": 52
    },
    "colab_type": "code",
    "executionInfo": {
     "elapsed": 128708,
     "status": "ok",
     "timestamp": 1588045082821,
     "user": {
      "displayName": "DANIEL CARVAJAL PATINO",
      "photoUrl": "https://lh3.googleusercontent.com/a-/AOh14GhxBZtj3mQtzEEZFtBw3AsNbetTt5sdp9LZMJsb=s64",
      "userId": "02012202667471862451"
     },
     "user_tz": 300
    },
    "id": "m-kjnit0vsPb",
    "outputId": "3a0f0e22-1765-4b73-8c4b-636e087ecb5b",
    "scrolled": true
   },
   "outputs": [
    {
     "name": "stdout",
     "output_type": "stream",
     "text": [
      "train accuracy 0.976911976911977\n",
      "test accuracy  0.4006734006734007\n"
     ]
    }
   ],
   "source": [
    "preds_train = model.predict([X_train_ri, X_train_f]).argmax(axis=1)\n",
    "preds_test = model.predict([X_test_ri, X_test_f]).argmax(axis=1)\n",
    "\n",
    "print(\"train accuracy {}\".format((preds_train == y_train).mean()))\n",
    "print(\"test accuracy  {}\".format((preds_test == y_test).mean()))"
   ]
  },
  {
   "cell_type": "code",
   "execution_count": 0,
   "metadata": {
    "colab": {
     "base_uri": "https://localhost:8080/",
     "height": 421
    },
    "colab_type": "code",
    "executionInfo": {
     "elapsed": 128745,
     "status": "ok",
     "timestamp": 1588045083085,
     "user": {
      "displayName": "DANIEL CARVAJAL PATINO",
      "photoUrl": "https://lh3.googleusercontent.com/a-/AOh14GhxBZtj3mQtzEEZFtBw3AsNbetTt5sdp9LZMJsb=s64",
      "userId": "02012202667471862451"
     },
     "user_tz": 300
    },
    "id": "fj_FtTJZELB-",
    "outputId": "02aa20fe-a6c7-469d-8587-5741997a55fe"
   },
   "outputs": [
    {
     "data": {
      "text/plain": [
       "Text(0, 0.5, 'y_pred')"
      ]
     },
     "execution_count": 187,
     "metadata": {
      "tags": []
     },
     "output_type": "execute_result"
    },
    {
     "data": {
      "image/png": "[encoded data removed]",
      "text/plain": [
       "<Figure size 432x432 with 1 Axes>"
      ]
     },
     "metadata": {
      "needs_background": "light",
      "tags": []
     },
     "output_type": "display_data"
    }
   ],
   "source": [
    "cm = confusion_matrix(y_pred=preds_test, y_true=y_test)\n",
    "\n",
    "plt.figure(figsize=(6,6))\n",
    "plt.imshow(cm, aspect=\"auto\", cmap=\"Blues\")\n",
    "plt.title(\"confusion matrix\")\n",
    "plt.xlabel(\"y_true\")\n",
    "plt.ylabel(\"y_pred\")"
   ]
  },
  {
   "cell_type": "markdown",
   "metadata": {
    "colab_type": "text",
    "id": "jUN7clUjEL4e"
   },
   "source": [
    "## Increase convolutional complexity"
   ]
  },
  {
   "cell_type": "code",
   "execution_count": 0,
   "metadata": {
    "colab": {},
    "colab_type": "code",
    "id": "3yrmuPLGvsPf"
   },
   "outputs": [],
   "source": [
    "def model_OD2(input_dim, extra_info_dim, num_classes):\n",
    "    \n",
    "    clear_session()\n",
    "    inp1 = Input(shape=(input_dim[1],input_dim[2],1))\n",
    "    l11 = Conv2D(64, (7,7))(inp1)\n",
    "    acv1 = LeakyReLU()(l11)\n",
    "    \n",
    "    l12 = Conv2D(32, (7,7))(acv1)\n",
    "    acv2 = LeakyReLU()(l12)\n",
    "\n",
    "    l13 = Flatten()(acv2)\n",
    "\n",
    "    inp2 = Input(shape=(extra_info_dim,))\n",
    "    cc1 = concatenate([l13, inp2], axis=1)\n",
    "    \n",
    "    l14 =  Dense(256, activation=\"relu\")(cc1)\n",
    "    acv2 = ReLU()(l14)\n",
    "       \n",
    "    output = Dense(num_classes, activation='softmax')(acv2)\n",
    "  \n",
    "    model = Model(inputs=[inp1, inp2], outputs=output)\n",
    "    model.compile(optimizer='RMSprop', loss='categorical_crossentropy', metrics=[\"accuracy\"])\n",
    "    model.reset_states()\n",
    "    \n",
    "    return model\n",
    "\n"
   ]
  },
  {
   "cell_type": "code",
   "execution_count": 0,
   "metadata": {
    "colab": {
     "base_uri": "https://localhost:8080/",
     "height": 366
    },
    "colab_type": "code",
    "executionInfo": {
     "elapsed": 1310829,
     "status": "ok",
     "timestamp": 1588046267311,
     "user": {
      "displayName": "DANIEL CARVAJAL PATINO",
      "photoUrl": "https://lh3.googleusercontent.com/a-/AOh14GhxBZtj3mQtzEEZFtBw3AsNbetTt5sdp9LZMJsb=s64",
      "userId": "02012202667471862451"
     },
     "user_tz": 300
    },
    "id": "3tHTvZaVyXe0",
    "outputId": "e07f9875-af7e-45d1-aeec-2d7e3dc2a469"
   },
   "outputs": [
    {
     "name": "stdout",
     "output_type": "stream",
     "text": [
      "Building onehot target ... ok\n",
      "Reshaping image ... ok\n",
      "Training model ... ok\n",
      "Checking results ...\n",
      "train accuracy 0.07503607503607504\n",
      "test accuracy  0.05723905723905724\n",
      "CPU times: user 38min 12s, sys: 17.6 s, total: 38min 30s\n",
      "Wall time: 19min 43s\n"
     ]
    },
    {
     "data": {
      "image/png": "[encoded data removed]",
      "text/plain": [
       "<Figure size 720x216 with 1 Axes>"
      ]
     },
     "metadata": {
      "needs_background": "light",
      "tags": []
     },
     "output_type": "display_data"
    }
   ],
   "source": [
    "%%time\n",
    "lib.multimodal_experiment(get_model=model_OD2, img_X_train=X_train_ri, fea_X_train=X_train_f, img_X_test=X_test_ri,\n",
    "                          fea_X_test=X_test_f, y_train=y_train, y_test=y_test, num_classes=num_classes, verbose=0, epochs=5, batch_size=20)"
   ]
  },
  {
   "cell_type": "markdown",
   "metadata": {
    "colab_type": "text",
    "id": "_-g31jNVERkk"
   },
   "source": [
    "## Increase dense complexity"
   ]
  },
  {
   "cell_type": "code",
   "execution_count": 0,
   "metadata": {
    "colab": {},
    "colab_type": "code",
    "id": "qWwd7Jh52dUO"
   },
   "outputs": [],
   "source": [
    "def model_OD3(input_dim, extra_info_dim, num_classes):\n",
    "    \n",
    "    clear_session()\n",
    "    inp1 = Input(shape=(input_dim[1],input_dim[2],1))\n",
    "    l11 = Conv2D(16, (7, 7))(inp1)\n",
    "    acv1 = ReLU()(l11)\n",
    "    l12 = Flatten()(acv1)\n",
    "\n",
    "    inp2 = Input(shape=(extra_info_dim,))\n",
    "    cc1 = concatenate([l12, inp2], axis=1)\n",
    "    \n",
    "    l13 =  Dense(256)(cc1)\n",
    "    acv2 = LeakyReLU()(l13)\n",
    "    drop1 = Dropout(0.5)(acv2)\n",
    "\n",
    "    l14 =  Dense(128)(drop1)\n",
    "    acv3 = LeakyReLU()(l14)\n",
    "    drop2 = Dropout(0.5)(acv3)\n",
    "       \n",
    "    output = Dense(num_classes, activation='softmax')(drop2)\n",
    "  \n",
    "    model = Model(inputs=[inp1, inp2], outputs=output)\n",
    "    model.compile(optimizer='RMSprop', loss='categorical_crossentropy', metrics=[\"accuracy\"])\n",
    "    model.reset_states()\n",
    "    \n",
    "    return model\n",
    "\n"
   ]
  },
  {
   "cell_type": "code",
   "execution_count": 200,
   "metadata": {
    "colab": {
     "base_uri": "https://localhost:8080/",
     "height": 366
    },
    "colab_type": "code",
    "executionInfo": {
     "elapsed": 129548,
     "status": "ok",
     "timestamp": 1588047438552,
     "user": {
      "displayName": "DANIEL CARVAJAL PATINO",
      "photoUrl": "https://lh3.googleusercontent.com/a-/AOh14GhxBZtj3mQtzEEZFtBw3AsNbetTt5sdp9LZMJsb=s64",
      "userId": "02012202667471862451"
     },
     "user_tz": 300
    },
    "id": "Xlo07Wm22daV",
    "outputId": "dadba78e-c604-4efc-d4c1-3629aed8aa72"
   },
   "outputs": [
    {
     "name": "stdout",
     "output_type": "stream",
     "text": [
      "Building onehot target ... ok\n",
      "Reshaping image ... ok\n",
      "Training model ... ok\n",
      "Checking results ...\n",
      "train accuracy 0.9942279942279942\n",
      "test accuracy  0.45791245791245794\n",
      "CPU times: user 4min 6s, sys: 4.43 s, total: 4min 10s\n",
      "Wall time: 2min 8s\n"
     ]
    },
    {
     "data": {
      "image/png": "[encoded data removed]",
      "text/plain": [
       "<Figure size 720x216 with 1 Axes>"
      ]
     },
     "metadata": {
      "needs_background": "light",
      "tags": []
     },
     "output_type": "display_data"
    }
   ],
   "source": [
    "%%time\n",
    "lib.multimodal_experiment(get_model=model_OD3, img_X_train=X_train_ri, fea_X_train=X_train_f, img_X_test=X_test_ri,\n",
    "                          fea_X_test=X_test_f, y_train=y_train, y_test=y_test, num_classes=num_classes, verbose=0, epochs=5, batch_size=20)"
   ]
  },
  {
   "cell_type": "code",
   "execution_count": 0,
   "metadata": {
    "colab": {},
    "colab_type": "code",
    "id": "VmgNvxlz8ka6"
   },
   "outputs": [],
   "source": []
  }
 ],
 "metadata": {
  "colab": {
   "collapsed_sections": [],
   "name": "08 -  Multimodal arquitecture - resize image.ipynb",
   "provenance": [
    {
     "file_id": "https://github.com/DaielChom/ann_leaf_classification/blob/master/0X%20-%20%20Multimodal%20arquitecture%20-%20resize%20image.ipynb",
     "timestamp": 1588026343118
    }
   ],
   "toc_visible": true
  },
  "kernelspec": {
   "display_name": "Python 3",
   "language": "python",
   "name": "python3"
  },
  "language_info": {
   "codemirror_mode": {
    "name": "ipython",
    "version": 3
   },
   "file_extension": ".py",
   "mimetype": "text/x-python",
   "name": "python",
   "nbconvert_exporter": "python",
   "pygments_lexer": "ipython3",
   "version": "3.7.5"
  }
 },
 "nbformat": 4,
 "nbformat_minor": 1
}
