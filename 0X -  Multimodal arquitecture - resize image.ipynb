{
 "cells": [
  {
   "cell_type": "code",
   "execution_count": 14,
   "metadata": {},
   "outputs": [],
   "source": [
    "import os\n",
    "import lib\n",
    "import random\n",
    "import numpy as np\n",
    "import pandas as pd\n",
    "import matplotlib.pyplot as plt\n",
    "\n",
    "from tensorflow.keras import Sequential, Model\n",
    "from tensorflow.keras.layers import Dense, Dropout, Flatten, concatenate, Input, Conv2D,Flatten\n",
    "from tensorflow.keras.backend import clear_session\n",
    "\n",
    "from importlib import reload\n",
    "reload(lib)\n",
    "\n",
    "import warnings\n",
    "warnings.filterwarnings('ignore')"
   ]
  },
  {
   "cell_type": "code",
   "execution_count": 2,
   "metadata": {},
   "outputs": [],
   "source": [
    "import warnings\n",
    "warnings.filterwarnings('ignore')"
   ]
  },
  {
   "cell_type": "markdown",
   "metadata": {},
   "source": [
    "# Multimodal arquitecture\n"
   ]
  },
  {
   "cell_type": "code",
   "execution_count": 3,
   "metadata": {},
   "outputs": [],
   "source": [
    "data_dir = \"/home/daielchom/Documents/projects/maestria/data/datasets/leaf_classification/\""
   ]
  },
  {
   "cell_type": "code",
   "execution_count": 4,
   "metadata": {},
   "outputs": [],
   "source": [
    "split=0.7"
   ]
  },
  {
   "cell_type": "code",
   "execution_count": 20,
   "metadata": {},
   "outputs": [
    {
     "name": "stdout",
     "output_type": "stream",
     "text": [
      "The intersection between train and test set is 0\n",
      "There are 99 classes for the classification task.\n"
     ]
    }
   ],
   "source": [
    "X_train_f, _, X_train_ri, y_train, X_test_f, _, X_test_ri, y_test, species, num_classes, _, _ = lib.get_splitted_data(data_dir=data_dir, check_id_sets=True, verbose=1, use_resize_images=True, split=split)"
   ]
  },
  {
   "cell_type": "markdown",
   "metadata": {},
   "source": [
    "#### flatten images"
   ]
  },
  {
   "cell_type": "code",
   "execution_count": 21,
   "metadata": {},
   "outputs": [],
   "source": [
    "#X_train_ri = np.array([i.flatten() for i in X_train_ri])\n",
    "#X_test_ri = np.array([i.flatten() for i in X_test_ri])"
   ]
  },
  {
   "cell_type": "markdown",
   "metadata": {},
   "source": [
    "#### target onehot"
   ]
  },
  {
   "cell_type": "code",
   "execution_count": 22,
   "metadata": {},
   "outputs": [],
   "source": [
    "y_train_oh = np.eye(num_classes)[y_train]\n",
    "y_test_oh  = np.eye(num_classes)[y_test]"
   ]
  },
  {
   "cell_type": "code",
   "execution_count": 32,
   "metadata": {},
   "outputs": [],
   "source": [
    "X_train_ri = X_train_ri.reshape((X_train_ri.shape[0], X_train_ri.shape[1], X_train_ri.shape[2], 1))"
   ]
  },
  {
   "cell_type": "code",
   "execution_count": 33,
   "metadata": {},
   "outputs": [
    {
     "data": {
      "text/plain": [
       "((693, 194), (693, 128, 128, 1), (693, 99))"
      ]
     },
     "execution_count": 33,
     "metadata": {},
     "output_type": "execute_result"
    }
   ],
   "source": [
    "X_train_f.shape, X_train_ri.shape, y_train_oh.shape"
   ]
  },
  {
   "cell_type": "code",
   "execution_count": 34,
   "metadata": {},
   "outputs": [
    {
     "data": {
      "text/plain": [
       "((297, 194), (297, 128, 128), (297, 99))"
      ]
     },
     "execution_count": 34,
     "metadata": {},
     "output_type": "execute_result"
    }
   ],
   "source": [
    "X_test_f.shape, X_test_ri.shape, y_test_oh.shape"
   ]
  },
  {
   "cell_type": "markdown",
   "metadata": {},
   "source": [
    "## Only Dense"
   ]
  },
  {
   "cell_type": "code",
   "execution_count": 47,
   "metadata": {},
   "outputs": [],
   "source": [
    "def model_OD1(input_dim, extra_info_dim, num_classes):\n",
    "    \n",
    "    clear_session()\n",
    "    inp1 = Input(shape=(input_dim[1],input_dim[2],1))\n",
    "    l11 = Conv2D(10,(3,3), activation=\"relu\")(inp1)\n",
    "    l12 = Flatten()(l11)\n",
    "\n",
    "    inp2 = Input(shape=(extra_info_dim,))\n",
    "    cc1 = concatenate([l12, inp2], axis=1)\n",
    "    l13 =  Dense(256, activation=\"relu\")(cc1)\n",
    "    \n",
    "    output = Dense(num_classes, activation='softmax')(l13)\n",
    "    #output = Dense(num_classes, activation='softmax')(l12)\n",
    "        \n",
    "    #model = Model(inputs=[inp1], outputs=output)\n",
    "    model = Model(inputs=[inp1, inp2], outputs=output)\n",
    "    model.compile(optimizer='RMSprop', loss='categorical_crossentropy', metrics=[\"accuracy\"])\n",
    "    model.reset_states()\n",
    "    \n",
    "    return model\n",
    "\n"
   ]
  },
  {
   "cell_type": "code",
   "execution_count": 48,
   "metadata": {
    "scrolled": false
   },
   "outputs": [
    {
     "name": "stdout",
     "output_type": "stream",
     "text": [
      "Model: \"model\"\n",
      "__________________________________________________________________________________________________\n",
      "Layer (type)                    Output Shape         Param #     Connected to                     \n",
      "==================================================================================================\n",
      "input_1 (InputLayer)            [(None, 128, 128, 1) 0                                            \n",
      "__________________________________________________________________________________________________\n",
      "conv2d (Conv2D)                 (None, 126, 126, 10) 100         input_1[0][0]                    \n",
      "__________________________________________________________________________________________________\n",
      "flatten (Flatten)               (None, 158760)       0           conv2d[0][0]                     \n",
      "__________________________________________________________________________________________________\n",
      "input_2 (InputLayer)            [(None, 194)]        0                                            \n",
      "__________________________________________________________________________________________________\n",
      "concatenate (Concatenate)       (None, 158954)       0           flatten[0][0]                    \n",
      "                                                                 input_2[0][0]                    \n",
      "__________________________________________________________________________________________________\n",
      "dense (Dense)                   (None, 256)          40692480    concatenate[0][0]                \n",
      "__________________________________________________________________________________________________\n",
      "dense_1 (Dense)                 (None, 99)           25443       dense[0][0]                      \n",
      "==================================================================================================\n",
      "Total params: 40,718,023\n",
      "Trainable params: 40,718,023\n",
      "Non-trainable params: 0\n",
      "__________________________________________________________________________________________________\n"
     ]
    }
   ],
   "source": [
    "model = model_OD1(input_dim=X_train_ri.shape, extra_info_dim=X_train_f.shape[1], num_classes=num_classes)\n",
    "model.summary()"
   ]
  },
  {
   "cell_type": "code",
   "execution_count": 49,
   "metadata": {
    "scrolled": false
   },
   "outputs": [
    {
     "name": "stdout",
     "output_type": "stream",
     "text": [
      "Train on 693 samples\n",
      "Epoch 1/10\n",
      "693/693 [==============================] - 21s 30ms/sample - loss: 18.5579 - accuracy: 0.0260\n",
      "Epoch 2/10\n",
      "693/693 [==============================] - 19s 27ms/sample - loss: 4.4564 - accuracy: 0.0880\n",
      "Epoch 3/10\n",
      "693/693 [==============================] - 19s 27ms/sample - loss: 3.6520 - accuracy: 0.1818\n",
      "Epoch 4/10\n",
      "693/693 [==============================] - 19s 27ms/sample - loss: 2.5109 - accuracy: 0.4141\n",
      "Epoch 5/10\n",
      "693/693 [==============================] - 20s 28ms/sample - loss: 1.5230 - accuracy: 0.6450\n",
      "Epoch 6/10\n",
      "693/693 [==============================] - 19s 28ms/sample - loss: 0.7777 - accuracy: 0.8557\n",
      "Epoch 7/10\n",
      "693/693 [==============================] - 20s 29ms/sample - loss: 0.2778 - accuracy: 0.9567\n",
      "Epoch 8/10\n",
      "693/693 [==============================] - 22s 32ms/sample - loss: 0.0835 - accuracy: 0.9971\n",
      "Epoch 9/10\n",
      "693/693 [==============================] - 20s 29ms/sample - loss: 0.0202 - accuracy: 1.0000\n",
      "Epoch 10/10\n",
      "693/693 [==============================] - 20s 29ms/sample - loss: 0.0088 - accuracy: 0.9971\n"
     ]
    }
   ],
   "source": [
    "#history = model.fit(X_train_ri, y_train_oh, epochs=10, batch_size=15)\n",
    "history = model.fit([X_train_ri, X_train_f], y_train_oh, epochs=10, batch_size=20)"
   ]
  },
  {
   "cell_type": "code",
   "execution_count": 50,
   "metadata": {},
   "outputs": [
    {
     "data": {
      "text/plain": [
       "<matplotlib.legend.Legend at 0x7f7d632ef990>"
      ]
     },
     "execution_count": 50,
     "metadata": {},
     "output_type": "execute_result"
    },
    {
     "data": {
      "image/png": "[encoded data removed]",
      "text/plain": [
       "<Figure size 720x216 with 1 Axes>"
      ]
     },
     "metadata": {
      "needs_background": "light"
     },
     "output_type": "display_data"
    }
   ],
   "source": [
    "plt.figure(figsize=(10,3))\n",
    "plt.plot(history.history[\"loss\"], label=\"loss\", marker=\"o\")\n",
    "plt.plot(history.history[\"accuracy\"], label=\"accuracy\", marker=\"o\")\n",
    "plt.grid()\n",
    "plt.legend()"
   ]
  },
  {
   "cell_type": "code",
   "execution_count": null,
   "metadata": {},
   "outputs": [],
   "source": []
  }
 ],
 "metadata": {
  "kernelspec": {
   "display_name": "Python 3",
   "language": "python",
   "name": "python3"
  },
  "language_info": {
   "codemirror_mode": {
    "name": "ipython",
    "version": 3
   },
   "file_extension": ".py",
   "mimetype": "text/x-python",
   "name": "python",
   "nbconvert_exporter": "python",
   "pygments_lexer": "ipython3",
   "version": "3.7.5"
  }
 },
 "nbformat": 4,
 "nbformat_minor": 4
}
