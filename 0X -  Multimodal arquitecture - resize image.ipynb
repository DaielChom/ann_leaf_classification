{
 "cells": [
  {
   "cell_type": "code",
   "execution_count": 1,
   "metadata": {},
   "outputs": [],
   "source": [
    "import os\n",
    "import lib\n",
    "import random\n",
    "import numpy as np\n",
    "import pandas as pd\n",
    "import matplotlib.pyplot as plt\n",
    "\n",
    "from tensorflow.keras import Sequential, Model\n",
    "from tensorflow.keras.layers import Dense, Dropout, Flatten, concatenate, Input, Conv2D,Flatten\n",
    "from tensorflow.keras.backend import clear_session\n",
    "\n",
    "from importlib import reload\n",
    "reload(lib)\n",
    "\n",
    "import warnings\n",
    "warnings.filterwarnings('ignore')"
   ]
  },
  {
   "cell_type": "code",
   "execution_count": 2,
   "metadata": {},
   "outputs": [],
   "source": [
    "import warnings\n",
    "warnings.filterwarnings('ignore')"
   ]
  },
  {
   "cell_type": "markdown",
   "metadata": {},
   "source": [
    "# Multimodal arquitecture\n"
   ]
  },
  {
   "cell_type": "code",
   "execution_count": 3,
   "metadata": {},
   "outputs": [],
   "source": [
    "data_dir = \"/home/daielchom/Documents/projects/maestria/data/datasets/leaf_classification/\""
   ]
  },
  {
   "cell_type": "code",
   "execution_count": 4,
   "metadata": {},
   "outputs": [],
   "source": [
    "split=0.7"
   ]
  },
  {
   "cell_type": "code",
   "execution_count": 5,
   "metadata": {},
   "outputs": [
    {
     "name": "stdout",
     "output_type": "stream",
     "text": [
      "The intersection between train and test set is 0\n",
      "There are 99 classes for the classification task.\n"
     ]
    }
   ],
   "source": [
    "X_train_f, _, X_train_ri, y_train, X_test_f, _, X_test_ri, y_test, species, num_classes, _, _ = lib.get_splitted_data(data_dir=data_dir, check_id_sets=True, verbose=1, use_resize_images=True, split=split)"
   ]
  },
  {
   "cell_type": "markdown",
   "metadata": {},
   "source": [
    "#### target onehot"
   ]
  },
  {
   "cell_type": "code",
   "execution_count": 6,
   "metadata": {},
   "outputs": [],
   "source": [
    "y_train_oh = np.eye(num_classes)[y_train]\n",
    "y_test_oh  = np.eye(num_classes)[y_test]"
   ]
  },
  {
   "cell_type": "code",
   "execution_count": 7,
   "metadata": {},
   "outputs": [],
   "source": [
    "X_train_ri = X_train_ri.reshape((X_train_ri.shape[0], X_train_ri.shape[1], X_train_ri.shape[2], 1))\n",
    "X_test_ri = X_test_ri.reshape((X_test_ri.shape[0], X_test_ri.shape[1], X_test_ri.shape[2], 1))"
   ]
  },
  {
   "cell_type": "code",
   "execution_count": 8,
   "metadata": {},
   "outputs": [
    {
     "data": {
      "text/plain": [
       "((693, 194), (693, 128, 128, 1), (693, 99))"
      ]
     },
     "execution_count": 8,
     "metadata": {},
     "output_type": "execute_result"
    }
   ],
   "source": [
    "X_train_f.shape, X_train_ri.shape, y_train_oh.shape"
   ]
  },
  {
   "cell_type": "code",
   "execution_count": 9,
   "metadata": {},
   "outputs": [
    {
     "data": {
      "text/plain": [
       "((297, 194), (297, 128, 128, 1), (297, 99))"
      ]
     },
     "execution_count": 9,
     "metadata": {},
     "output_type": "execute_result"
    }
   ],
   "source": [
    "X_test_f.shape, X_test_ri.shape, y_test_oh.shape"
   ]
  },
  {
   "cell_type": "markdown",
   "metadata": {},
   "source": [
    "## Models"
   ]
  },
  {
   "cell_type": "code",
   "execution_count": 10,
   "metadata": {},
   "outputs": [],
   "source": [
    "def model_OD1(input_dim, extra_info_dim, num_classes):\n",
    "    \n",
    "    clear_session()\n",
    "    inp1 = Input(shape=(input_dim[1],input_dim[2],1))\n",
    "    l11 = Conv2D(10,(3,3), activation=\"relu\")(inp1)\n",
    "    l12 = Flatten()(l11)\n",
    "\n",
    "    inp2 = Input(shape=(extra_info_dim,))\n",
    "    cc1 = concatenate([l12, inp2], axis=1)\n",
    "    l13 =  Dense(256, activation=\"relu\")(cc1)\n",
    "    \n",
    "    output = Dense(num_classes, activation='softmax')(l13)\n",
    "    #output = Dense(num_classes, activation='softmax')(l12)\n",
    "        \n",
    "    #model = Model(inputs=[inp1], outputs=output)\n",
    "    model = Model(inputs=[inp1, inp2], outputs=output)\n",
    "    model.compile(optimizer='RMSprop', loss='categorical_crossentropy', metrics=[\"accuracy\"])\n",
    "    model.reset_states()\n",
    "    \n",
    "    return model\n",
    "\n"
   ]
  },
  {
   "cell_type": "code",
   "execution_count": 11,
   "metadata": {
    "scrolled": false
   },
   "outputs": [
    {
     "name": "stdout",
     "output_type": "stream",
     "text": [
      "Model: \"model\"\n",
      "__________________________________________________________________________________________________\n",
      "Layer (type)                    Output Shape         Param #     Connected to                     \n",
      "==================================================================================================\n",
      "input_1 (InputLayer)            [(None, 128, 128, 1) 0                                            \n",
      "__________________________________________________________________________________________________\n",
      "conv2d (Conv2D)                 (None, 126, 126, 10) 100         input_1[0][0]                    \n",
      "__________________________________________________________________________________________________\n",
      "flatten (Flatten)               (None, 158760)       0           conv2d[0][0]                     \n",
      "__________________________________________________________________________________________________\n",
      "input_2 (InputLayer)            [(None, 194)]        0                                            \n",
      "__________________________________________________________________________________________________\n",
      "concatenate (Concatenate)       (None, 158954)       0           flatten[0][0]                    \n",
      "                                                                 input_2[0][0]                    \n",
      "__________________________________________________________________________________________________\n",
      "dense (Dense)                   (None, 256)          40692480    concatenate[0][0]                \n",
      "__________________________________________________________________________________________________\n",
      "dense_1 (Dense)                 (None, 99)           25443       dense[0][0]                      \n",
      "==================================================================================================\n",
      "Total params: 40,718,023\n",
      "Trainable params: 40,718,023\n",
      "Non-trainable params: 0\n",
      "__________________________________________________________________________________________________\n"
     ]
    }
   ],
   "source": [
    "model = model_OD1(input_dim=X_train_ri.shape, extra_info_dim=X_train_f.shape[1], num_classes=num_classes)\n",
    "model.summary()"
   ]
  },
  {
   "cell_type": "code",
   "execution_count": 14,
   "metadata": {
    "scrolled": false
   },
   "outputs": [
    {
     "name": "stdout",
     "output_type": "stream",
     "text": [
      "Train on 693 samples\n",
      "Epoch 1/10\n",
      "693/693 [==============================] - 66s 95ms/sample - loss: 7.2777 - accuracy: 0.0231\n",
      "Epoch 2/10\n",
      "693/693 [==============================] - 71s 102ms/sample - loss: 3.3913 - accuracy: 0.2771\n",
      "Epoch 3/10\n",
      "693/693 [==============================] - 67s 96ms/sample - loss: 0.5070 - accuracy: 0.8759\n",
      "Epoch 4/10\n",
      "693/693 [==============================] - 68s 98ms/sample - loss: 0.0611 - accuracy: 0.9812\n",
      "Epoch 5/10\n",
      "693/693 [==============================] - 86s 124ms/sample - loss: 0.0076 - accuracy: 0.9986\n",
      "Epoch 6/10\n",
      "693/693 [==============================] - 77s 111ms/sample - loss: 0.0102 - accuracy: 0.9986\n",
      "Epoch 7/10\n",
      "693/693 [==============================] - 75s 109ms/sample - loss: 0.0016 - accuracy: 0.9986\n",
      "Epoch 8/10\n",
      "693/693 [==============================] - 71s 102ms/sample - loss: 0.0072 - accuracy: 0.9971\n",
      "Epoch 9/10\n",
      "693/693 [==============================] - 69s 100ms/sample - loss: 3.8491e-06 - accuracy: 1.0000\n",
      "Epoch 10/10\n",
      "693/693 [==============================] - 73s 105ms/sample - loss: 4.2277e-04 - accuracy: 1.0000\n"
     ]
    }
   ],
   "source": [
    "history = model.fit([X_train_ri, X_train_f], y_train_oh, epochs=10, batch_size=5)"
   ]
  },
  {
   "cell_type": "code",
   "execution_count": 16,
   "metadata": {},
   "outputs": [
    {
     "data": {
      "text/plain": [
       "Text(0.5, 1.0, 'Train performance')"
      ]
     },
     "execution_count": 16,
     "metadata": {},
     "output_type": "execute_result"
    },
    {
     "data": {
      "image/png": "[encoded data removed]",
      "text/plain": [
       "<Figure size 720x216 with 1 Axes>"
      ]
     },
     "metadata": {
      "needs_background": "light"
     },
     "output_type": "display_data"
    }
   ],
   "source": [
    "plt.figure(figsize=(10,3))\n",
    "plt.plot(history.history[\"loss\"], label=\"loss\", marker=\"o\")\n",
    "plt.plot(history.history[\"accuracy\"], label=\"accuracy\", marker=\"o\")\n",
    "plt.grid()\n",
    "plt.legend()\n",
    "plt.title(\"Train performance\")"
   ]
  },
  {
   "cell_type": "code",
   "execution_count": 34,
   "metadata": {
    "scrolled": true
   },
   "outputs": [
    {
     "name": "stdout",
     "output_type": "stream",
     "text": [
      "train accuracy 1.0\n",
      "test accuracy  0.4882154882154882\n"
     ]
    }
   ],
   "source": [
    "preds_train = model.predict([X_train_ri, X_train_f]).argmax(axis=1)\n",
    "preds_test = model.predict([X_test_ri, X_test_f]).argmax(axis=1)\n",
    "\n",
    "print(\"train accuracy {}\".format((preds_train == y_train).mean()))\n",
    "print(\"test accuracy  {}\".format((preds_test == y_test).mean()))"
   ]
  },
  {
   "cell_type": "code",
   "execution_count": 10,
   "metadata": {},
   "outputs": [],
   "source": [
    "def model_OD2(input_dim, extra_info_dim, num_classes):\n",
    "    \n",
    "    clear_session()\n",
    "    inp1 = Input(shape=(input_dim[1],input_dim[2],1))\n",
    "    \n",
    "    conv1 = Conv2D(128, (3,3), activation=\"relu\")(inp1)\n",
    "    conv2 = Conv2D(64, (3,3), activation=\"relu\")(conv1)\n",
    "    l12 = Flatten()(conv2)\n",
    "\n",
    "    inp2 = Input(shape=(extra_info_dim,))\n",
    "    cc1 = concatenate([l12, inp2], axis=1)\n",
    "    l13 =  Dense(512, activation=\"relu\")(cc1)\n",
    "    l14 =  Dense(128, activation=\"relu\")(l13)\n",
    "        \n",
    "    output = Dense(num_classes, activation='softmax')(l14)\n",
    "\n",
    "    model = Model(inputs=[inp1, inp2], outputs=output)\n",
    "    model.compile(optimizer='RMSprop', loss='categorical_crossentropy', metrics=[\"accuracy\"])\n",
    "    model.reset_states()\n",
    "    \n",
    "    return model"
   ]
  },
  {
   "cell_type": "code",
   "execution_count": null,
   "metadata": {},
   "outputs": [
    {
     "name": "stdout",
     "output_type": "stream",
     "text": [
      "Building onehot target ... ok\n",
      "Reshaping image ... ok\n",
      "Training model ... "
     ]
    }
   ],
   "source": [
    "lib.multimodal_experiment(get_model=model_OD2, img_X_train=X_train_ri, fea_X_train=X_train_f, img_X_test=X_test_ri,\n",
    "                          fea_X_test=X_test_f, y_train=y_train, y_test=y_test, num_classes=num_classes)"
   ]
  },
  {
   "cell_type": "code",
   "execution_count": null,
   "metadata": {},
   "outputs": [],
   "source": []
  }
 ],
 "metadata": {
  "kernelspec": {
   "display_name": "Python 3",
   "language": "python",
   "name": "python3"
  },
  "language_info": {
   "codemirror_mode": {
    "name": "ipython",
    "version": 3
   },
   "file_extension": ".py",
   "mimetype": "text/x-python",
   "name": "python",
   "nbconvert_exporter": "python",
   "pygments_lexer": "ipython3",
   "version": "3.7.5"
  }
 },
 "nbformat": 4,
 "nbformat_minor": 4
}
