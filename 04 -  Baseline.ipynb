{
 "cells": [
  {
   "cell_type": "code",
   "execution_count": 69,
   "metadata": {},
   "outputs": [],
   "source": [
    "import os\n",
    "import random\n",
    "import numpy as np\n",
    "import pandas as pd\n",
    "import progressbar\n",
    "import matplotlib.pyplot as plt\n",
    "\n",
    "import lib\n",
    "from skimage import io\n",
    "from skimage.transform import resize\n",
    "from sklearn.metrics import confusion_matrix\n",
    "from sklearn.discriminant_analysis import LinearDiscriminantAnalysis\n",
    "\n",
    "from importlib import reload\n",
    "reload(lib)\n",
    "\n",
    "import warnings\n",
    "warnings.filterwarnings('ignore')"
   ]
  },
  {
   "cell_type": "markdown",
   "metadata": {},
   "source": [
    "# Baseline Model\n",
    "We want to have a model of classical Machine learning. This model is god to make comparison with the deep learning models. \n"
   ]
  },
  {
   "cell_type": "markdown",
   "metadata": {},
   "source": [
    "## 1. Get datasets"
   ]
  },
  {
   "cell_type": "code",
   "execution_count": 2,
   "metadata": {},
   "outputs": [],
   "source": [
    "data_dir = \"\""
   ]
  },
  {
   "cell_type": "code",
   "execution_count": 3,
   "metadata": {},
   "outputs": [
    {
     "name": "stdout",
     "output_type": "stream",
     "text": [
      "The intersection between train and test set is 0\n",
      "There are 99 classes for the classification task.\n"
     ]
    }
   ],
   "source": [
    "X_train, _,_, y_train, X_test, _,_, y_test, species, num_classes, _, _ = lib.get_splitted_data(data_dir=data_dir, check_id_sets=True, verbose=1)"
   ]
  },
  {
   "cell_type": "code",
   "execution_count": 4,
   "metadata": {
    "scrolled": true
   },
   "outputs": [
    {
     "data": {
      "text/plain": [
       "((693, 195), (693,), (297, 195), (297,))"
      ]
     },
     "execution_count": 4,
     "metadata": {},
     "output_type": "execute_result"
    }
   ],
   "source": [
    "X_train.shape, y_train.shape, X_test.shape, y_test.shape"
   ]
  },
  {
   "cell_type": "markdown",
   "metadata": {},
   "source": [
    "## 2. ML model"
   ]
  },
  {
   "cell_type": "code",
   "execution_count": 5,
   "metadata": {},
   "outputs": [],
   "source": [
    "model = LinearDiscriminantAnalysis()"
   ]
  },
  {
   "cell_type": "code",
   "execution_count": 6,
   "metadata": {
    "scrolled": true
   },
   "outputs": [
    {
     "data": {
      "text/plain": [
       "LinearDiscriminantAnalysis(n_components=None, priors=None, shrinkage=None,\n",
       "                           solver='svd', store_covariance=False, tol=0.0001)"
      ]
     },
     "execution_count": 6,
     "metadata": {},
     "output_type": "execute_result"
    }
   ],
   "source": [
    "model.fit(X_train, y_train)"
   ]
  },
  {
   "cell_type": "code",
   "execution_count": 7,
   "metadata": {},
   "outputs": [
    {
     "data": {
      "text/plain": [
       "1.0"
      ]
     },
     "execution_count": 7,
     "metadata": {},
     "output_type": "execute_result"
    }
   ],
   "source": [
    "tr_pred = model.predict(X_train)\n",
    "train_accuracy = (tr_pred == y_train).mean()\n",
    "train_accuracy"
   ]
  },
  {
   "cell_type": "code",
   "execution_count": 8,
   "metadata": {},
   "outputs": [
    {
     "data": {
      "text/plain": [
       "0.9797979797979798"
      ]
     },
     "execution_count": 8,
     "metadata": {},
     "output_type": "execute_result"
    }
   ],
   "source": [
    "ts_pred = model.predict(X_test)\n",
    "test_accuracy = (ts_pred == y_test).mean()\n",
    "test_accuracy"
   ]
  },
  {
   "cell_type": "markdown",
   "metadata": {},
   "source": [
    "## 3. Model stability"
   ]
  },
  {
   "cell_type": "code",
   "execution_count": 72,
   "metadata": {},
   "outputs": [],
   "source": [
    "N = 10"
   ]
  },
  {
   "cell_type": "code",
   "execution_count": 73,
   "metadata": {},
   "outputs": [
    {
     "name": "stderr",
     "output_type": "stream",
     "text": [
      "100% (10 of 10) |########################| Elapsed Time: 0:00:01 Time:  0:00:01\n"
     ]
    }
   ],
   "source": [
    "train_results = []\n",
    "test_results = []\n",
    "\n",
    "for i in progressbar.ProgressBar()(range(N)):\n",
    "    \n",
    "    # get data\n",
    "    X_train, _,_, y_train, X_test, _,_, y_test, species, num_classes, _, _ = lib.get_splitted_data(data_dir=data_dir)\n",
    "    \n",
    "    # model\n",
    "    model = LinearDiscriminantAnalysis()\n",
    "    model.fit(X_train, y_train)\n",
    "    \n",
    "    # train results\n",
    "    tr_pred = model.predict(X_train)\n",
    "    train_accuracy = (tr_pred == y_train).mean()\n",
    "    \n",
    "    # test results\n",
    "    ts_pred = model.predict(X_test)\n",
    "    test_accuracy = (ts_pred == y_test).mean()\n",
    "    \n",
    "    train_results.append(train_accuracy)\n",
    "    test_results.append(test_accuracy)\n",
    "    "
   ]
  },
  {
   "cell_type": "code",
   "execution_count": 74,
   "metadata": {},
   "outputs": [
    {
     "data": {
      "text/plain": [
       "[1.0, 1.0, 1.0, 1.0, 1.0, 1.0, 1.0, 1.0, 1.0, 1.0]"
      ]
     },
     "execution_count": 74,
     "metadata": {},
     "output_type": "execute_result"
    }
   ],
   "source": [
    "train_results"
   ]
  },
  {
   "cell_type": "code",
   "execution_count": 75,
   "metadata": {},
   "outputs": [
    {
     "name": "stdout",
     "output_type": "stream",
     "text": [
      "Test mean accuracy for 10 experiments: 0.979\n",
      "Test std accuracy for 10 experiments: 0.009\n"
     ]
    }
   ],
   "source": [
    "print(\"Test mean accuracy for {} experiments: {:.3f}\".format(N, np.mean(test_results)))\n",
    "print(\"Test std accuracy for {} experiments: {:.3f}\".format(N, np.std(test_results)))"
   ]
  },
  {
   "cell_type": "code",
   "execution_count": 85,
   "metadata": {},
   "outputs": [
    {
     "data": {
      "text/plain": [
       "Text(0, 0.5, 'y_pred')"
      ]
     },
     "execution_count": 85,
     "metadata": {},
     "output_type": "execute_result"
    },
    {
     "data": {
      "image/png": "[encoded data removed]",
      "text/plain": [
       "<Figure size 432x432 with 1 Axes>"
      ]
     },
     "metadata": {
      "needs_background": "light"
     },
     "output_type": "display_data"
    }
   ],
   "source": [
    "cm = confusion_matrix(y_pred=ts_pred, y_true=y_test)\n",
    "\n",
    "plt.figure(figsize=(6,6))\n",
    "plt.imshow(cm, aspect=\"auto\", cmap=\"Blues\")\n",
    "plt.title(\"confusion matrix\")\n",
    "plt.xlabel(\"y_true\")\n",
    "plt.ylabel(\"y_pred\")"
   ]
  },
  {
   "cell_type": "code",
   "execution_count": 84,
   "metadata": {},
   "outputs": [],
   "source": [
    "confusion_matrix?"
   ]
  },
  {
   "cell_type": "code",
   "execution_count": 47,
   "metadata": {},
   "outputs": [],
   "source": [
    "N = 10\n",
    "splits = [0.3, 0.4, 0.5, 0.6, 0.7, 0.8, 0.9]"
   ]
  },
  {
   "cell_type": "code",
   "execution_count": 48,
   "metadata": {},
   "outputs": [
    {
     "name": "stderr",
     "output_type": "stream",
     "text": [
      "100% (7 of 7) |##########################| Elapsed Time: 0:00:11 Time:  0:00:11\n"
     ]
    }
   ],
   "source": [
    "train_results = []\n",
    "test_results = []\n",
    "\n",
    "for split in progressbar.ProgressBar()(splits):\n",
    "    \n",
    "    rtrain = []\n",
    "    rtest = []\n",
    "\n",
    "    for i in range(N):\n",
    "\n",
    "        # get data\n",
    "        X_train, _,_, y_train, X_test, _,_, y_test, species, num_classes, _, _ = lib.get_splitted_data(data_dir=data_dir, split=split)\n",
    "\n",
    "        # model\n",
    "        model = LinearDiscriminantAnalysis()\n",
    "        model.fit(X_train, y_train)\n",
    "\n",
    "        # train results\n",
    "        tr_pred = model.predict(X_train)\n",
    "        train_accuracy = (tr_pred == y_train).mean()\n",
    "\n",
    "        # test results\n",
    "        ts_pred = model.predict(X_test)\n",
    "        test_accuracy = (ts_pred == y_test).mean()\n",
    "\n",
    "        rtrain.append(train_accuracy)\n",
    "        rtest.append(test_accuracy)\n",
    "    \n",
    "    train_results.append(rtrain)\n",
    "    test_results.append(rtest)\n",
    "    "
   ]
  },
  {
   "cell_type": "code",
   "execution_count": 49,
   "metadata": {},
   "outputs": [],
   "source": [
    "tr_m = [np.mean(i) for i in train_results]\n",
    "tr_s = [np.std(i) for i in train_results]"
   ]
  },
  {
   "cell_type": "code",
   "execution_count": 55,
   "metadata": {},
   "outputs": [],
   "source": [
    "ts_m = np.array([np.mean(i) for i in test_results])\n",
    "ts_s = np.array([np.std(i) for i in test_results])"
   ]
  },
  {
   "cell_type": "code",
   "execution_count": 62,
   "metadata": {
    "scrolled": true
   },
   "outputs": [
    {
     "data": {
      "text/plain": [
       "Text(0, 0.5, 'accuracy')"
      ]
     },
     "execution_count": 62,
     "metadata": {},
     "output_type": "execute_result"
    },
    {
     "data": {
      "image/png": "[encoded data removed]",
      "text/plain": [
       "<Figure size 1080x288 with 1 Axes>"
      ]
     },
     "metadata": {
      "needs_background": "light"
     },
     "output_type": "display_data"
    }
   ],
   "source": [
    "plt.figure(figsize=(15,4))\n",
    "\n",
    "plt.plot(tr_m, label=\"train\", color=\"red\", marker=\"o\")\n",
    "plt.plot(ts_m, label=\"test\", color=\"green\", marker=\"o\")\n",
    "plt.fill_between(range(len(splits)), ts_m+ts_s, ts_m-ts_s, facecolor='green', interpolate=True, alpha=0.17)\n",
    "\n",
    "plt.grid()\n",
    "plt.legend()\n",
    "_=plt.xticks(range(len(splits)), splits)\n",
    "plt.xlabel(\"split set\")\n",
    "plt.ylabel(\"accuracy\")"
   ]
  }
 ],
 "metadata": {
  "kernelspec": {
   "display_name": "Python 3",
   "language": "python",
   "name": "python3"
  },
  "language_info": {
   "codemirror_mode": {
    "name": "ipython",
    "version": 3
   },
   "file_extension": ".py",
   "mimetype": "text/x-python",
   "name": "python",
   "nbconvert_exporter": "python",
   "pygments_lexer": "ipython3",
   "version": "3.7.5"
  }
 },
 "nbformat": 4,
 "nbformat_minor": 4
}
