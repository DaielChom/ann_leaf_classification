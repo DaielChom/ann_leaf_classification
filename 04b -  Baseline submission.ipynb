{
 "cells": [
  {
   "cell_type": "code",
   "execution_count": 1,
   "metadata": {},
   "outputs": [],
   "source": [
    "import os\n",
    "import random\n",
    "import numpy as np\n",
    "import pandas as pd\n",
    "import progressbar\n",
    "import matplotlib.pyplot as plt\n",
    "\n",
    "import lib\n",
    "from skimage import io\n",
    "from skimage.transform import resize\n",
    "from sklearn.metrics import confusion_matrix\n",
    "from sklearn.discriminant_analysis import LinearDiscriminantAnalysis\n",
    "\n",
    "from importlib import reload\n",
    "reload(lib)\n",
    "\n",
    "import warnings\n",
    "warnings.filterwarnings('ignore')"
   ]
  },
  {
   "cell_type": "markdown",
   "metadata": {},
   "source": [
    "# Baseline submission\n"
   ]
  },
  {
   "cell_type": "markdown",
   "metadata": {},
   "source": [
    "## 1. Get datasets"
   ]
  },
  {
   "cell_type": "code",
   "execution_count": 19,
   "metadata": {},
   "outputs": [],
   "source": [
    "data_dir = \"\""
   ]
  },
  {
   "cell_type": "code",
   "execution_count": 3,
   "metadata": {},
   "outputs": [
    {
     "name": "stdout",
     "output_type": "stream",
     "text": [
      "The intersection between train and test set is 0\n",
      "There are 99 classes for the classification task.\n"
     ]
    }
   ],
   "source": [
    "X_train, _,_, y_train, X_test, _,_, y_test, species, _, _, _ = lib.get_splitted_data(data_dir=data_dir, split=1, check_id_sets=True, verbose=1)"
   ]
  },
  {
   "cell_type": "code",
   "execution_count": 4,
   "metadata": {
    "scrolled": true
   },
   "outputs": [
    {
     "data": {
      "text/plain": [
       "((990, 195), (990,), (0, 195), (0,))"
      ]
     },
     "execution_count": 4,
     "metadata": {},
     "output_type": "execute_result"
    }
   ],
   "source": [
    "X_train.shape, y_train.shape, X_test.shape, y_test.shape"
   ]
  },
  {
   "cell_type": "markdown",
   "metadata": {},
   "source": [
    "## 2. ML model"
   ]
  },
  {
   "cell_type": "code",
   "execution_count": 5,
   "metadata": {},
   "outputs": [],
   "source": [
    "model = LinearDiscriminantAnalysis()"
   ]
  },
  {
   "cell_type": "code",
   "execution_count": 6,
   "metadata": {
    "scrolled": true
   },
   "outputs": [
    {
     "data": {
      "text/plain": [
       "LinearDiscriminantAnalysis(n_components=None, priors=None, shrinkage=None,\n",
       "                           solver='svd', store_covariance=False, tol=0.0001)"
      ]
     },
     "execution_count": 6,
     "metadata": {},
     "output_type": "execute_result"
    }
   ],
   "source": [
    "model.fit(X_train, y_train)"
   ]
  },
  {
   "cell_type": "code",
   "execution_count": 7,
   "metadata": {},
   "outputs": [
    {
     "data": {
      "text/plain": [
       "1.0"
      ]
     },
     "execution_count": 7,
     "metadata": {},
     "output_type": "execute_result"
    }
   ],
   "source": [
    "tr_pred = model.predict(X_train)\n",
    "train_accuracy = (tr_pred == y_train).mean()\n",
    "train_accuracy"
   ]
  },
  {
   "cell_type": "markdown",
   "metadata": {},
   "source": [
    "## 3. Get submission data"
   ]
  },
  {
   "cell_type": "code",
   "execution_count": 8,
   "metadata": {},
   "outputs": [],
   "source": [
    "X_test, _, _, submission_ids = lib.get_submission_data(data_dir=data_dir)"
   ]
  },
  {
   "cell_type": "code",
   "execution_count": 9,
   "metadata": {},
   "outputs": [],
   "source": [
    "proba = model.predict_proba(X_test)"
   ]
  },
  {
   "cell_type": "code",
   "execution_count": 13,
   "metadata": {},
   "outputs": [],
   "source": [
    "if not os.path.exists(data_dir+\"/submissions/\"):\n",
    "    os.makedirs(data_dir+\"/submissions/\")"
   ]
  },
  {
   "cell_type": "code",
   "execution_count": 14,
   "metadata": {},
   "outputs": [
    {
     "data": {
      "text/html": [
       "<div>\n",
       "<style scoped>\n",
       "    .dataframe tbody tr th:only-of-type {\n",
       "        vertical-align: middle;\n",
       "    }\n",
       "\n",
       "    .dataframe tbody tr th {\n",
       "        vertical-align: top;\n",
       "    }\n",
       "\n",
       "    .dataframe thead th {\n",
       "        text-align: right;\n",
       "    }\n",
       "</style>\n",
       "<table border=\"1\" class=\"dataframe\">\n",
       "  <thead>\n",
       "    <tr style=\"text-align: right;\">\n",
       "      <th></th>\n",
       "      <th>id</th>\n",
       "      <th>Quercus_Pyrenaica</th>\n",
       "      <th>Salix_Fragilis</th>\n",
       "      <th>Ulmus_Bergmanniana</th>\n",
       "      <th>Rhododendron_x_Russellianum</th>\n",
       "      <th>Castanea_Sativa</th>\n",
       "      <th>Morus_Nigra</th>\n",
       "      <th>Arundinaria_Simonii</th>\n",
       "      <th>Zelkova_Serrata</th>\n",
       "      <th>Quercus_Pontica</th>\n",
       "      <th>...</th>\n",
       "      <th>Ilex_Aquifolium</th>\n",
       "      <th>Lithocarpus_Edulis</th>\n",
       "      <th>Quercus_Infectoria_sub</th>\n",
       "      <th>Tilia_Oliveri</th>\n",
       "      <th>Quercus_Palustris</th>\n",
       "      <th>Quercus_Chrysolepis</th>\n",
       "      <th>Callicarpa_Bodinieri</th>\n",
       "      <th>Acer_Mono</th>\n",
       "      <th>Quercus_Pubescens</th>\n",
       "      <th>Prunus_Avium</th>\n",
       "    </tr>\n",
       "  </thead>\n",
       "  <tbody>\n",
       "    <tr>\n",
       "      <th>0</th>\n",
       "      <td>4</td>\n",
       "      <td>3.631419e-139</td>\n",
       "      <td>8.811537e-268</td>\n",
       "      <td>1.454962e-184</td>\n",
       "      <td>2.151289e-169</td>\n",
       "      <td>6.629601e-214</td>\n",
       "      <td>1.008079e-137</td>\n",
       "      <td>2.022515e-287</td>\n",
       "      <td>1.840142e-163</td>\n",
       "      <td>2.087318e-108</td>\n",
       "      <td>...</td>\n",
       "      <td>5.716791e-110</td>\n",
       "      <td>9.996256e-173</td>\n",
       "      <td>5.255007e-111</td>\n",
       "      <td>4.517866e-125</td>\n",
       "      <td>3.861077e-149</td>\n",
       "      <td>2.311164e-216</td>\n",
       "      <td>3.074608e-175</td>\n",
       "      <td>1.123189e-162</td>\n",
       "      <td>7.775716e-95</td>\n",
       "      <td>7.021876e-271</td>\n",
       "    </tr>\n",
       "    <tr>\n",
       "      <th>1</th>\n",
       "      <td>7</td>\n",
       "      <td>6.993240e-84</td>\n",
       "      <td>1.146169e-198</td>\n",
       "      <td>9.911421e-145</td>\n",
       "      <td>2.924359e-218</td>\n",
       "      <td>7.500606e-106</td>\n",
       "      <td>2.232314e-166</td>\n",
       "      <td>2.245440e-212</td>\n",
       "      <td>2.025590e-92</td>\n",
       "      <td>1.394320e-169</td>\n",
       "      <td>...</td>\n",
       "      <td>6.205862e-105</td>\n",
       "      <td>2.612505e-116</td>\n",
       "      <td>2.806150e-67</td>\n",
       "      <td>4.582376e-134</td>\n",
       "      <td>2.795004e-125</td>\n",
       "      <td>2.068862e-147</td>\n",
       "      <td>9.025442e-139</td>\n",
       "      <td>1.871473e-117</td>\n",
       "      <td>8.893069e-170</td>\n",
       "      <td>1.025035e-156</td>\n",
       "    </tr>\n",
       "    <tr>\n",
       "      <th>2</th>\n",
       "      <td>9</td>\n",
       "      <td>1.017591e-182</td>\n",
       "      <td>2.744807e-205</td>\n",
       "      <td>7.778647e-112</td>\n",
       "      <td>2.330852e-310</td>\n",
       "      <td>1.074886e-166</td>\n",
       "      <td>3.446930e-127</td>\n",
       "      <td>2.606442e-305</td>\n",
       "      <td>1.214080e-109</td>\n",
       "      <td>9.312262e-236</td>\n",
       "      <td>...</td>\n",
       "      <td>6.197971e-160</td>\n",
       "      <td>3.939491e-232</td>\n",
       "      <td>1.697486e-162</td>\n",
       "      <td>1.435629e-153</td>\n",
       "      <td>4.119382e-233</td>\n",
       "      <td>1.883843e-256</td>\n",
       "      <td>9.368603e-218</td>\n",
       "      <td>1.330126e-168</td>\n",
       "      <td>4.395472e-189</td>\n",
       "      <td>2.646383e-176</td>\n",
       "    </tr>\n",
       "    <tr>\n",
       "      <th>3</th>\n",
       "      <td>12</td>\n",
       "      <td>9.753035e-128</td>\n",
       "      <td>7.425222e-182</td>\n",
       "      <td>1.557146e-57</td>\n",
       "      <td>3.307476e-296</td>\n",
       "      <td>1.000000e+00</td>\n",
       "      <td>6.439177e-78</td>\n",
       "      <td>5.548809e-241</td>\n",
       "      <td>8.057444e-52</td>\n",
       "      <td>2.825466e-200</td>\n",
       "      <td>...</td>\n",
       "      <td>9.303643e-161</td>\n",
       "      <td>4.482379e-206</td>\n",
       "      <td>1.182376e-123</td>\n",
       "      <td>6.382430e-159</td>\n",
       "      <td>2.957610e-207</td>\n",
       "      <td>3.798994e-250</td>\n",
       "      <td>3.597696e-179</td>\n",
       "      <td>3.351951e-218</td>\n",
       "      <td>9.667741e-201</td>\n",
       "      <td>2.922576e-37</td>\n",
       "    </tr>\n",
       "    <tr>\n",
       "      <th>4</th>\n",
       "      <td>13</td>\n",
       "      <td>8.991551e-232</td>\n",
       "      <td>1.496686e-222</td>\n",
       "      <td>7.712812e-107</td>\n",
       "      <td>0.000000e+00</td>\n",
       "      <td>1.736767e-208</td>\n",
       "      <td>9.236062e-179</td>\n",
       "      <td>0.000000e+00</td>\n",
       "      <td>1.177028e-170</td>\n",
       "      <td>9.360639e-246</td>\n",
       "      <td>...</td>\n",
       "      <td>2.047210e-217</td>\n",
       "      <td>1.729320e-255</td>\n",
       "      <td>3.223095e-183</td>\n",
       "      <td>5.865241e-179</td>\n",
       "      <td>4.111329e-234</td>\n",
       "      <td>2.679754e-296</td>\n",
       "      <td>2.013860e-228</td>\n",
       "      <td>4.027085e-210</td>\n",
       "      <td>2.654275e-247</td>\n",
       "      <td>4.499892e-204</td>\n",
       "    </tr>\n",
       "  </tbody>\n",
       "</table>\n",
       "<p>5 rows × 100 columns</p>\n",
       "</div>"
      ],
      "text/plain": [
       "   id  Quercus_Pyrenaica  Salix_Fragilis  Ulmus_Bergmanniana  \\\n",
       "0   4      3.631419e-139   8.811537e-268       1.454962e-184   \n",
       "1   7       6.993240e-84   1.146169e-198       9.911421e-145   \n",
       "2   9      1.017591e-182   2.744807e-205       7.778647e-112   \n",
       "3  12      9.753035e-128   7.425222e-182        1.557146e-57   \n",
       "4  13      8.991551e-232   1.496686e-222       7.712812e-107   \n",
       "\n",
       "   Rhododendron_x_Russellianum  Castanea_Sativa    Morus_Nigra  \\\n",
       "0                2.151289e-169    6.629601e-214  1.008079e-137   \n",
       "1                2.924359e-218    7.500606e-106  2.232314e-166   \n",
       "2                2.330852e-310    1.074886e-166  3.446930e-127   \n",
       "3                3.307476e-296     1.000000e+00   6.439177e-78   \n",
       "4                 0.000000e+00    1.736767e-208  9.236062e-179   \n",
       "\n",
       "   Arundinaria_Simonii  Zelkova_Serrata  Quercus_Pontica  ...  \\\n",
       "0        2.022515e-287    1.840142e-163    2.087318e-108  ...   \n",
       "1        2.245440e-212     2.025590e-92    1.394320e-169  ...   \n",
       "2        2.606442e-305    1.214080e-109    9.312262e-236  ...   \n",
       "3        5.548809e-241     8.057444e-52    2.825466e-200  ...   \n",
       "4         0.000000e+00    1.177028e-170    9.360639e-246  ...   \n",
       "\n",
       "   Ilex_Aquifolium  Lithocarpus_Edulis  Quercus_Infectoria_sub  Tilia_Oliveri  \\\n",
       "0    5.716791e-110       9.996256e-173           5.255007e-111  4.517866e-125   \n",
       "1    6.205862e-105       2.612505e-116            2.806150e-67  4.582376e-134   \n",
       "2    6.197971e-160       3.939491e-232           1.697486e-162  1.435629e-153   \n",
       "3    9.303643e-161       4.482379e-206           1.182376e-123  6.382430e-159   \n",
       "4    2.047210e-217       1.729320e-255           3.223095e-183  5.865241e-179   \n",
       "\n",
       "   Quercus_Palustris  Quercus_Chrysolepis  Callicarpa_Bodinieri  \\\n",
       "0      3.861077e-149        2.311164e-216         3.074608e-175   \n",
       "1      2.795004e-125        2.068862e-147         9.025442e-139   \n",
       "2      4.119382e-233        1.883843e-256         9.368603e-218   \n",
       "3      2.957610e-207        3.798994e-250         3.597696e-179   \n",
       "4      4.111329e-234        2.679754e-296         2.013860e-228   \n",
       "\n",
       "       Acer_Mono  Quercus_Pubescens   Prunus_Avium  \n",
       "0  1.123189e-162       7.775716e-95  7.021876e-271  \n",
       "1  1.871473e-117      8.893069e-170  1.025035e-156  \n",
       "2  1.330126e-168      4.395472e-189  2.646383e-176  \n",
       "3  3.351951e-218      9.667741e-201   2.922576e-37  \n",
       "4  4.027085e-210      2.654275e-247  4.499892e-204  \n",
       "\n",
       "[5 rows x 100 columns]"
      ]
     },
     "execution_count": 14,
     "metadata": {},
     "output_type": "execute_result"
    }
   ],
   "source": [
    "submission = pd.DataFrame(proba, columns=list(species.keys()))\n",
    "submission.insert(0, 'id', submission_ids)\n",
    "submission.reset_index()\n",
    "submission.to_csv(data_dir+'/submissions/baseline.csv', index=False)\n",
    "submission.head()"
   ]
  },
  {
   "cell_type": "markdown",
   "metadata": {},
   "source": [
    "## 4. Send submission\n",
    "To submit you need [kaggle-api](https://github.com/Kaggle/kaggle-api)"
   ]
  },
  {
   "cell_type": "code",
   "execution_count": 36,
   "metadata": {},
   "outputs": [
    {
     "name": "stdout",
     "output_type": "stream",
     "text": [
      "100%|███████████████████████████████████████| 1.26M/1.26M [00:02<00:00, 479kB/s]\n",
      "Successfully submitted to Leaf Classification"
     ]
    }
   ],
   "source": [
    "! kaggle competitions submit -c leaf-classification -f {data_dir+\"/submissions/baseline.csv\"} -m \"baseline\""
   ]
  },
  {
   "cell_type": "markdown",
   "metadata": {},
   "source": [
    "![score](./imgs/baseline_submission.png)"
   ]
  }
 ],
 "metadata": {
  "kernelspec": {
   "display_name": "Python 3",
   "language": "python",
   "name": "python3"
  },
  "language_info": {
   "codemirror_mode": {
    "name": "ipython",
    "version": 3
   },
   "file_extension": ".py",
   "mimetype": "text/x-python",
   "name": "python",
   "nbconvert_exporter": "python",
   "pygments_lexer": "ipython3",
   "version": "3.7.5"
  }
 },
 "nbformat": 4,
 "nbformat_minor": 4
}
