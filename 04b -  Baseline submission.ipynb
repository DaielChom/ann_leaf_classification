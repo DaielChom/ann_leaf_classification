{
 "cells": [
  {
   "cell_type": "markdown",
   "metadata": {},
   "source": [
    "#### Preparing data\n",
    "Run the next cells to download and prepare the datasets and util functions."
   ]
  },
  {
   "cell_type": "code",
   "execution_count": 1,
   "metadata": {},
   "outputs": [],
   "source": [
    "import sys\n",
    "download_data = False\n",
    "\n",
    "if 'google.colab' in sys.modules:\n",
    "    download_data = True"
   ]
  },
  {
   "cell_type": "code",
   "execution_count": 2,
   "metadata": {},
   "outputs": [],
   "source": [
    "if download_data:\n",
    "    !wget --no-cache -O init.py -q https://raw.githubusercontent.com/DaielChom/ann_leaf_classification/master/init.py\n",
    "    from init import download_utils, unzip_leaf_dataset, dataset_dir\n",
    "    download_utils(force_download=False)"
   ]
  },
  {
   "cell_type": "code",
   "execution_count": 3,
   "metadata": {},
   "outputs": [],
   "source": [
    "if download_data:\n",
    "    !mkdir ./local/datasets/\n",
    "    !wget --load-cookies /tmp/cookies.txt \"https://docs.google.com/uc?export=download&confirm=$(wget --quiet --save-cookies /tmp/cookies.txt --keep-session-cookies --no-check-certificate 'https://docs.google.com/uc?export=download&id=1g5MPhz2YEW5nyuUqacQ_GVWpeDjVG-Cf' -O- | sed -rn 's/.*confirm=([0-9A-Za-z_]+).*/\\1\\n/p')&id=1g5MPhz2YEW5nyuUqacQ_GVWpeDjVG-Cf\" -O local/datasets/leaf.zip && rm -rf /tmp/cookies.txt"
   ]
  },
  {
   "cell_type": "code",
   "execution_count": 4,
   "metadata": {},
   "outputs": [],
   "source": [
    "if download_data:\n",
    "    unzip_leaf_dataset()"
   ]
  },
  {
   "cell_type": "markdown",
   "metadata": {},
   "source": [
    "#### Notebook start"
   ]
  },
  {
   "cell_type": "code",
   "execution_count": 1,
   "metadata": {},
   "outputs": [],
   "source": [
    "import os\n",
    "import random\n",
    "import numpy as np\n",
    "import pandas as pd\n",
    "import progressbar\n",
    "import matplotlib.pyplot as plt\n",
    "\n",
    "import local.lib as lib\n",
    "\n",
    "from init import dataset_dir\n",
    "from skimage import io\n",
    "from skimage.transform import resize\n",
    "from sklearn.metrics import confusion_matrix\n",
    "from sklearn.discriminant_analysis import LinearDiscriminantAnalysis\n",
    "\n",
    "from importlib import reload\n",
    "reload(lib)\n",
    "\n",
    "import warnings\n",
    "warnings.filterwarnings('ignore')"
   ]
  },
  {
   "cell_type": "markdown",
   "metadata": {},
   "source": [
    "# Baseline submission\n"
   ]
  },
  {
   "cell_type": "markdown",
   "metadata": {},
   "source": [
    "## 1. Get datasets"
   ]
  },
  {
   "cell_type": "code",
   "execution_count": 2,
   "metadata": {},
   "outputs": [
    {
     "name": "stdout",
     "output_type": "stream",
     "text": [
      "The intersection between train and test set is 0\n",
      "There are 99 classes for the classification task.\n"
     ]
    }
   ],
   "source": [
    "X_train, _,_, y_train, X_test, _,_, y_test, species, _, _, _ = lib.get_splitted_data(data_dir=dataset_dir, split=1, check_id_sets=True, verbose=1)"
   ]
  },
  {
   "cell_type": "code",
   "execution_count": 3,
   "metadata": {
    "scrolled": true
   },
   "outputs": [
    {
     "data": {
      "text/plain": [
       "((990, 194), (990,), (0, 194), (0,))"
      ]
     },
     "execution_count": 3,
     "metadata": {},
     "output_type": "execute_result"
    }
   ],
   "source": [
    "X_train.shape, y_train.shape, X_test.shape, y_test.shape"
   ]
  },
  {
   "cell_type": "markdown",
   "metadata": {},
   "source": [
    "## 2. ML model"
   ]
  },
  {
   "cell_type": "code",
   "execution_count": 4,
   "metadata": {},
   "outputs": [],
   "source": [
    "model = LinearDiscriminantAnalysis()"
   ]
  },
  {
   "cell_type": "code",
   "execution_count": 5,
   "metadata": {
    "scrolled": true
   },
   "outputs": [
    {
     "data": {
      "text/plain": [
       "LinearDiscriminantAnalysis(n_components=None, priors=None, shrinkage=None,\n",
       "                           solver='svd', store_covariance=False, tol=0.0001)"
      ]
     },
     "execution_count": 5,
     "metadata": {},
     "output_type": "execute_result"
    }
   ],
   "source": [
    "model.fit(X_train, y_train)"
   ]
  },
  {
   "cell_type": "code",
   "execution_count": 6,
   "metadata": {},
   "outputs": [
    {
     "data": {
      "text/plain": [
       "1.0"
      ]
     },
     "execution_count": 6,
     "metadata": {},
     "output_type": "execute_result"
    }
   ],
   "source": [
    "tr_pred = model.predict(X_train)\n",
    "train_accuracy = (tr_pred == y_train).mean()\n",
    "train_accuracy"
   ]
  },
  {
   "cell_type": "markdown",
   "metadata": {},
   "source": [
    "## 3. Get submission data"
   ]
  },
  {
   "cell_type": "code",
   "execution_count": 7,
   "metadata": {},
   "outputs": [],
   "source": [
    "X_test, _, _, submission_ids = lib.get_submission_data(data_dir=dataset_dir)"
   ]
  },
  {
   "cell_type": "code",
   "execution_count": 8,
   "metadata": {},
   "outputs": [],
   "source": [
    "proba = model.predict_proba(X_test)"
   ]
  },
  {
   "cell_type": "code",
   "execution_count": 10,
   "metadata": {},
   "outputs": [],
   "source": [
    "if not os.path.exists(dataset_dir+\"/submissions/\"):\n",
    "    os.makedirs(dataset_dir+\"/submissions/\")"
   ]
  },
  {
   "cell_type": "code",
   "execution_count": 12,
   "metadata": {},
   "outputs": [
    {
     "data": {
      "text/html": [
       "<div>\n",
       "<style scoped>\n",
       "    .dataframe tbody tr th:only-of-type {\n",
       "        vertical-align: middle;\n",
       "    }\n",
       "\n",
       "    .dataframe tbody tr th {\n",
       "        vertical-align: top;\n",
       "    }\n",
       "\n",
       "    .dataframe thead th {\n",
       "        text-align: right;\n",
       "    }\n",
       "</style>\n",
       "<table border=\"1\" class=\"dataframe\">\n",
       "  <thead>\n",
       "    <tr style=\"text-align: right;\">\n",
       "      <th></th>\n",
       "      <th>id</th>\n",
       "      <th>Quercus_Crassifolia</th>\n",
       "      <th>Quercus_Agrifolia</th>\n",
       "      <th>Fagus_Sylvatica</th>\n",
       "      <th>Prunus_Avium</th>\n",
       "      <th>Quercus_x_Turneri</th>\n",
       "      <th>Eucalyptus_Urnigera</th>\n",
       "      <th>Quercus_Kewensis</th>\n",
       "      <th>Acer_Platanoids</th>\n",
       "      <th>Quercus_Hartwissiana</th>\n",
       "      <th>...</th>\n",
       "      <th>Cercis_Siliquastrum</th>\n",
       "      <th>Cornus_Macrophylla</th>\n",
       "      <th>Quercus_Phellos</th>\n",
       "      <th>Quercus_Brantii</th>\n",
       "      <th>Alnus_Maximowiczii</th>\n",
       "      <th>Sorbus_Aria</th>\n",
       "      <th>Salix_Intergra</th>\n",
       "      <th>Quercus_Crassipes</th>\n",
       "      <th>Pterocarya_Stenoptera</th>\n",
       "      <th>Tilia_Tomentosa</th>\n",
       "    </tr>\n",
       "  </thead>\n",
       "  <tbody>\n",
       "    <tr>\n",
       "      <th>0</th>\n",
       "      <td>4</td>\n",
       "      <td>2.648090e-156</td>\n",
       "      <td>1.000000e+00</td>\n",
       "      <td>6.540006e-62</td>\n",
       "      <td>4.834572e-270</td>\n",
       "      <td>2.423814e-148</td>\n",
       "      <td>1.782032e-142</td>\n",
       "      <td>1.617913e-100</td>\n",
       "      <td>1.001753e-156</td>\n",
       "      <td>2.617869e-117</td>\n",
       "      <td>...</td>\n",
       "      <td>9.395233e-107</td>\n",
       "      <td>5.432510e-158</td>\n",
       "      <td>2.401802e-172</td>\n",
       "      <td>3.013098e-107</td>\n",
       "      <td>9.004461e-205</td>\n",
       "      <td>1.395302e-165</td>\n",
       "      <td>9.535157e-118</td>\n",
       "      <td>2.186546e-150</td>\n",
       "      <td>3.617717e-143</td>\n",
       "      <td>1.497404e-103</td>\n",
       "    </tr>\n",
       "    <tr>\n",
       "      <th>1</th>\n",
       "      <td>7</td>\n",
       "      <td>3.103759e-116</td>\n",
       "      <td>1.411727e-111</td>\n",
       "      <td>8.934930e-77</td>\n",
       "      <td>4.584482e-157</td>\n",
       "      <td>1.046607e-67</td>\n",
       "      <td>2.555602e-69</td>\n",
       "      <td>2.524412e-35</td>\n",
       "      <td>1.043289e-59</td>\n",
       "      <td>6.482838e-106</td>\n",
       "      <td>...</td>\n",
       "      <td>1.122113e-117</td>\n",
       "      <td>4.078977e-128</td>\n",
       "      <td>5.070281e-151</td>\n",
       "      <td>3.536669e-57</td>\n",
       "      <td>3.481799e-169</td>\n",
       "      <td>1.729710e-192</td>\n",
       "      <td>3.045398e-89</td>\n",
       "      <td>3.667979e-159</td>\n",
       "      <td>5.783611e-141</td>\n",
       "      <td>4.531027e-82</td>\n",
       "    </tr>\n",
       "    <tr>\n",
       "      <th>2</th>\n",
       "      <td>9</td>\n",
       "      <td>1.917798e-212</td>\n",
       "      <td>3.538238e-171</td>\n",
       "      <td>9.152259e-132</td>\n",
       "      <td>8.216830e-173</td>\n",
       "      <td>1.206580e-159</td>\n",
       "      <td>1.838070e-167</td>\n",
       "      <td>1.976879e-131</td>\n",
       "      <td>2.368988e-195</td>\n",
       "      <td>2.040921e-184</td>\n",
       "      <td>...</td>\n",
       "      <td>5.726368e-161</td>\n",
       "      <td>1.791729e-243</td>\n",
       "      <td>4.909447e-236</td>\n",
       "      <td>4.704670e-150</td>\n",
       "      <td>1.319028e-100</td>\n",
       "      <td>2.394493e-227</td>\n",
       "      <td>1.147642e-161</td>\n",
       "      <td>1.811182e-236</td>\n",
       "      <td>1.386462e-115</td>\n",
       "      <td>5.877185e-92</td>\n",
       "    </tr>\n",
       "    <tr>\n",
       "      <th>3</th>\n",
       "      <td>12</td>\n",
       "      <td>9.013857e-178</td>\n",
       "      <td>2.202597e-190</td>\n",
       "      <td>1.271280e-122</td>\n",
       "      <td>1.565585e-37</td>\n",
       "      <td>4.523027e-123</td>\n",
       "      <td>3.118825e-160</td>\n",
       "      <td>2.280348e-106</td>\n",
       "      <td>2.429462e-168</td>\n",
       "      <td>3.842818e-116</td>\n",
       "      <td>...</td>\n",
       "      <td>2.328514e-176</td>\n",
       "      <td>7.517264e-195</td>\n",
       "      <td>7.934266e-211</td>\n",
       "      <td>1.952768e-102</td>\n",
       "      <td>1.121829e-112</td>\n",
       "      <td>6.786354e-206</td>\n",
       "      <td>1.150454e-163</td>\n",
       "      <td>2.434385e-262</td>\n",
       "      <td>3.334368e-144</td>\n",
       "      <td>1.383964e-97</td>\n",
       "    </tr>\n",
       "    <tr>\n",
       "      <th>4</th>\n",
       "      <td>13</td>\n",
       "      <td>1.566975e-219</td>\n",
       "      <td>6.822746e-220</td>\n",
       "      <td>3.294463e-186</td>\n",
       "      <td>4.961333e-203</td>\n",
       "      <td>2.112605e-217</td>\n",
       "      <td>2.141278e-206</td>\n",
       "      <td>4.192888e-170</td>\n",
       "      <td>6.406200e-194</td>\n",
       "      <td>4.087356e-216</td>\n",
       "      <td>...</td>\n",
       "      <td>9.487092e-222</td>\n",
       "      <td>5.793250e-256</td>\n",
       "      <td>5.801011e-293</td>\n",
       "      <td>1.135387e-175</td>\n",
       "      <td>1.065574e-63</td>\n",
       "      <td>1.054451e-190</td>\n",
       "      <td>1.438696e-192</td>\n",
       "      <td>3.351462e-239</td>\n",
       "      <td>1.736805e-125</td>\n",
       "      <td>1.938564e-99</td>\n",
       "    </tr>\n",
       "  </tbody>\n",
       "</table>\n",
       "<p>5 rows × 100 columns</p>\n",
       "</div>"
      ],
      "text/plain": [
       "   id  Quercus_Crassifolia  Quercus_Agrifolia  Fagus_Sylvatica   Prunus_Avium  \\\n",
       "0   4        2.648090e-156       1.000000e+00     6.540006e-62  4.834572e-270   \n",
       "1   7        3.103759e-116      1.411727e-111     8.934930e-77  4.584482e-157   \n",
       "2   9        1.917798e-212      3.538238e-171    9.152259e-132  8.216830e-173   \n",
       "3  12        9.013857e-178      2.202597e-190    1.271280e-122   1.565585e-37   \n",
       "4  13        1.566975e-219      6.822746e-220    3.294463e-186  4.961333e-203   \n",
       "\n",
       "   Quercus_x_Turneri  Eucalyptus_Urnigera  Quercus_Kewensis  Acer_Platanoids  \\\n",
       "0      2.423814e-148        1.782032e-142     1.617913e-100    1.001753e-156   \n",
       "1       1.046607e-67         2.555602e-69      2.524412e-35     1.043289e-59   \n",
       "2      1.206580e-159        1.838070e-167     1.976879e-131    2.368988e-195   \n",
       "3      4.523027e-123        3.118825e-160     2.280348e-106    2.429462e-168   \n",
       "4      2.112605e-217        2.141278e-206     4.192888e-170    6.406200e-194   \n",
       "\n",
       "   Quercus_Hartwissiana  ...  Cercis_Siliquastrum  Cornus_Macrophylla  \\\n",
       "0         2.617869e-117  ...        9.395233e-107       5.432510e-158   \n",
       "1         6.482838e-106  ...        1.122113e-117       4.078977e-128   \n",
       "2         2.040921e-184  ...        5.726368e-161       1.791729e-243   \n",
       "3         3.842818e-116  ...        2.328514e-176       7.517264e-195   \n",
       "4         4.087356e-216  ...        9.487092e-222       5.793250e-256   \n",
       "\n",
       "   Quercus_Phellos  Quercus_Brantii  Alnus_Maximowiczii    Sorbus_Aria  \\\n",
       "0    2.401802e-172    3.013098e-107       9.004461e-205  1.395302e-165   \n",
       "1    5.070281e-151     3.536669e-57       3.481799e-169  1.729710e-192   \n",
       "2    4.909447e-236    4.704670e-150       1.319028e-100  2.394493e-227   \n",
       "3    7.934266e-211    1.952768e-102       1.121829e-112  6.786354e-206   \n",
       "4    5.801011e-293    1.135387e-175        1.065574e-63  1.054451e-190   \n",
       "\n",
       "   Salix_Intergra  Quercus_Crassipes  Pterocarya_Stenoptera  Tilia_Tomentosa  \n",
       "0   9.535157e-118      2.186546e-150          3.617717e-143    1.497404e-103  \n",
       "1    3.045398e-89      3.667979e-159          5.783611e-141     4.531027e-82  \n",
       "2   1.147642e-161      1.811182e-236          1.386462e-115     5.877185e-92  \n",
       "3   1.150454e-163      2.434385e-262          3.334368e-144     1.383964e-97  \n",
       "4   1.438696e-192      3.351462e-239          1.736805e-125     1.938564e-99  \n",
       "\n",
       "[5 rows x 100 columns]"
      ]
     },
     "execution_count": 12,
     "metadata": {},
     "output_type": "execute_result"
    }
   ],
   "source": [
    "submission = pd.DataFrame(proba, columns=list(species.keys()))\n",
    "submission.insert(0, 'id', submission_ids)\n",
    "submission.reset_index()\n",
    "submission.to_csv(dataset_dir+'/submissions/baseline.csv', index=False)\n",
    "submission.head()"
   ]
  },
  {
   "cell_type": "markdown",
   "metadata": {},
   "source": [
    "## 4. Send submission\n",
    "To submit you need [kaggle-api](https://github.com/Kaggle/kaggle-api)"
   ]
  },
  {
   "cell_type": "code",
   "execution_count": 36,
   "metadata": {},
   "outputs": [
    {
     "name": "stdout",
     "output_type": "stream",
     "text": [
      "100%|███████████████████████████████████████| 1.26M/1.26M [00:02<00:00, 479kB/s]\n",
      "Successfully submitted to Leaf Classification"
     ]
    }
   ],
   "source": [
    "! kaggle competitions submit -c leaf-classification -f {dataset_dir+\"/submissions/baseline.csv\"} -m \"baseline\""
   ]
  },
  {
   "cell_type": "markdown",
   "metadata": {},
   "source": [
    "![score](./imgs/baseline_submission.png)"
   ]
  }
 ],
 "metadata": {
  "kernelspec": {
   "display_name": "Python 3",
   "language": "python",
   "name": "python3"
  },
  "language_info": {
   "codemirror_mode": {
    "name": "ipython",
    "version": 3
   },
   "file_extension": ".py",
   "mimetype": "text/x-python",
   "name": "python",
   "nbconvert_exporter": "python",
   "pygments_lexer": "ipython3",
   "version": "3.7.5"
  }
 },
 "nbformat": 4,
 "nbformat_minor": 4
}
