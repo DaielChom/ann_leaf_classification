{
 "cells": [
  {
   "cell_type": "markdown",
   "metadata": {
    "colab_type": "text",
    "id": "G5pxDwWovsNe"
   },
   "source": [
    "#### Preparing data\n",
    "Run the next cells to download and prepare the datasets and util functions."
   ]
  },
  {
   "cell_type": "code",
   "execution_count": 0,
   "metadata": {
    "colab": {},
    "colab_type": "code",
    "id": "b2h6xT9xvsNi"
   },
   "outputs": [],
   "source": [
    "import sys\n",
    "download_data = False\n",
    "\n",
    "if 'google.colab' in sys.modules:\n",
    "    download_data = True"
   ]
  },
  {
   "cell_type": "code",
   "execution_count": 0,
   "metadata": {
    "colab": {},
    "colab_type": "code",
    "id": "AjZxQccqvsNu"
   },
   "outputs": [],
   "source": [
    "if download_data:\n",
    "    !wget --no-cache -O init.py -q https://raw.githubusercontent.com/DaielChom/ann_leaf_classification/master/init.py\n",
    "    from init import download_utils, unzip_leaf_dataset, dataset_dir\n",
    "    download_utils(force_download=True)"
   ]
  },
  {
   "cell_type": "code",
   "execution_count": null,
   "metadata": {
    "colab": {
     "base_uri": "https://localhost:8080/",
     "height": 454
    },
    "colab_type": "code",
    "executionInfo": {
     "elapsed": 7061,
     "status": "ok",
     "timestamp": 1588074255632,
     "user": {
      "displayName": "DANIEL CARVAJAL PATINO",
      "photoUrl": "https://lh3.googleusercontent.com/a-/AOh14GhxBZtj3mQtzEEZFtBw3AsNbetTt5sdp9LZMJsb=s64",
      "userId": "02012202667471862451"
     },
     "user_tz": 300
    },
    "id": "1Xm715BnvsN5",
    "outputId": "8bd1098b-0e40-42ad-bb80-c72536e3dad5"
   },
   "outputs": [],
   "source": [
    "if download_data:\n",
    "    !mkdir ./local/datasets/\n",
    "    !wget --load-cookies /tmp/cookies.txt \"https://docs.google.com/uc?export=download&confirm=$(wget --quiet --save-cookies /tmp/cookies.txt --keep-session-cookies --no-check-certificate 'https://docs.google.com/uc?export=download&id=1g5MPhz2YEW5nyuUqacQ_GVWpeDjVG-Cf' -O- | sed -rn 's/.*confirm=([0-9A-Za-z_]+).*/\\1\\n/p')&id=1g5MPhz2YEW5nyuUqacQ_GVWpeDjVG-Cf\" -O local/datasets/leaf.zip && rm -rf /tmp/cookies.txt"
   ]
  },
  {
   "cell_type": "code",
   "execution_count": 0,
   "metadata": {
    "colab": {},
    "colab_type": "code",
    "id": "IOKzyEGivsOB"
   },
   "outputs": [],
   "source": [
    "if download_data:\n",
    "    unzip_leaf_dataset()"
   ]
  },
  {
   "cell_type": "markdown",
   "metadata": {
    "colab_type": "text",
    "id": "LpXdXJURvsOJ"
   },
   "source": [
    "#### Notebook start"
   ]
  },
  {
   "cell_type": "code",
   "execution_count": 0,
   "metadata": {
    "colab": {},
    "colab_type": "code",
    "id": "nqgQl8hCvsOK"
   },
   "outputs": [],
   "source": [
    "import os\n",
    "import local.lib as lib\n",
    "import random\n",
    "import numpy as np\n",
    "import pandas as pd\n",
    "import matplotlib.pyplot as plt\n",
    "\n",
    "from init import dataset_dir\n",
    "from sklearn.metrics import confusion_matrix\n",
    "from tensorflow.keras import Sequential, Model\n",
    "from tensorflow.keras.layers import Dense, Dropout, Flatten, concatenate, Input, Conv2D,Flatten, LeakyReLU, ReLU, BatchNormalization\n",
    "from tensorflow.keras.backend import clear_session\n",
    "\n",
    "from importlib import reload\n",
    "reload(lib)\n",
    "\n",
    "import warnings\n",
    "warnings.filterwarnings('ignore')"
   ]
  },
  {
   "cell_type": "markdown",
   "metadata": {
    "colab_type": "text",
    "id": "8huC4kjmvsOY"
   },
   "source": [
    "# Multimodal arquitecture\n"
   ]
  },
  {
   "cell_type": "code",
   "execution_count": 0,
   "metadata": {
    "colab": {},
    "colab_type": "code",
    "id": "u_09875DvsOZ"
   },
   "outputs": [],
   "source": [
    "split=0.7"
   ]
  },
  {
   "cell_type": "code",
   "execution_count": 7,
   "metadata": {
    "colab": {
     "base_uri": "https://localhost:8080/",
     "height": 52
    },
    "colab_type": "code",
    "executionInfo": {
     "elapsed": 11208,
     "status": "ok",
     "timestamp": 1588074262659,
     "user": {
      "displayName": "DANIEL CARVAJAL PATINO",
      "photoUrl": "https://lh3.googleusercontent.com/a-/AOh14GhxBZtj3mQtzEEZFtBw3AsNbetTt5sdp9LZMJsb=s64",
      "userId": "02012202667471862451"
     },
     "user_tz": 300
    },
    "id": "L_83_2ZDvsOh",
    "outputId": "2192eb51-8442-4a73-a887-dfff6b5c0d75"
   },
   "outputs": [
    {
     "name": "stdout",
     "output_type": "stream",
     "text": [
      "The intersection between train and test set is 0\n",
      "There are 99 classes for the classification task.\n"
     ]
    }
   ],
   "source": [
    "X_train_f, X_train_images, _, y_train, X_test_f, X_test_images, _, y_test, species, num_classes, _, _ = lib.get_splitted_data(data_dir=dataset_dir, check_id_sets=True, verbose=1, use_center_images=True, split=split)"
   ]
  },
  {
   "cell_type": "markdown",
   "metadata": {
    "colab_type": "text",
    "id": "VLJAvjKkvsOo"
   },
   "source": [
    "#### target onehot"
   ]
  },
  {
   "cell_type": "code",
   "execution_count": 0,
   "metadata": {
    "colab": {},
    "colab_type": "code",
    "id": "MYgtOobNvsOp"
   },
   "outputs": [],
   "source": [
    "y_train_oh = np.eye(num_classes)[y_train]\n",
    "y_test_oh  = np.eye(num_classes)[y_test]"
   ]
  },
  {
   "cell_type": "code",
   "execution_count": 0,
   "metadata": {
    "colab": {},
    "colab_type": "code",
    "id": "RII-NIAVvsOw"
   },
   "outputs": [],
   "source": [
    "X_train_images = X_train_images.reshape((X_train_images.shape[0], X_train_images.shape[1], X_train_images.shape[2], 1))\n",
    "X_test_images = X_test_images.reshape((X_test_images.shape[0], X_test_images.shape[1], X_test_images.shape[2], 1))"
   ]
  },
  {
   "cell_type": "code",
   "execution_count": 10,
   "metadata": {
    "colab": {
     "base_uri": "https://localhost:8080/",
     "height": 34
    },
    "colab_type": "code",
    "executionInfo": {
     "elapsed": 10245,
     "status": "ok",
     "timestamp": 1588074262670,
     "user": {
      "displayName": "DANIEL CARVAJAL PATINO",
      "photoUrl": "https://lh3.googleusercontent.com/a-/AOh14GhxBZtj3mQtzEEZFtBw3AsNbetTt5sdp9LZMJsb=s64",
      "userId": "02012202667471862451"
     },
     "user_tz": 300
    },
    "id": "WY2roTN-vsO1",
    "outputId": "ca60ab7a-d94e-44a9-81f5-5efa3b985fa0"
   },
   "outputs": [
    {
     "data": {
      "text/plain": [
       "((693, 194), (693, 128, 128, 1), (693, 99))"
      ]
     },
     "execution_count": 10,
     "metadata": {
      "tags": []
     },
     "output_type": "execute_result"
    }
   ],
   "source": [
    "X_train_f.shape, X_train_images.shape, y_train_oh.shape"
   ]
  },
  {
   "cell_type": "code",
   "execution_count": 11,
   "metadata": {
    "colab": {
     "base_uri": "https://localhost:8080/",
     "height": 34
    },
    "colab_type": "code",
    "executionInfo": {
     "elapsed": 10067,
     "status": "ok",
     "timestamp": 1588074262671,
     "user": {
      "displayName": "DANIEL CARVAJAL PATINO",
      "photoUrl": "https://lh3.googleusercontent.com/a-/AOh14GhxBZtj3mQtzEEZFtBw3AsNbetTt5sdp9LZMJsb=s64",
      "userId": "02012202667471862451"
     },
     "user_tz": 300
    },
    "id": "EI9ENaM8vsO8",
    "outputId": "eb126617-9b5b-4be5-dc36-5e07a55d2895"
   },
   "outputs": [
    {
     "data": {
      "text/plain": [
       "((297, 194), (297, 128, 128, 1), (297, 99))"
      ]
     },
     "execution_count": 11,
     "metadata": {
      "tags": []
     },
     "output_type": "execute_result"
    }
   ],
   "source": [
    "X_test_f.shape, X_test_images.shape, y_test_oh.shape"
   ]
  },
  {
   "cell_type": "markdown",
   "metadata": {
    "colab_type": "text",
    "id": "ESs6_1rTvsPC"
   },
   "source": [
    "## Models"
   ]
  },
  {
   "cell_type": "code",
   "execution_count": 0,
   "metadata": {
    "colab": {},
    "colab_type": "code",
    "id": "Rnpg0cjTvsPD"
   },
   "outputs": [],
   "source": [
    "def model_OD1(input_dim, extra_info_dim, num_classes):\n",
    "    \n",
    "    clear_session()\n",
    "    inp1 = Input(shape=(input_dim[1],input_dim[2],1))\n",
    "    l11 = Conv2D(64, (7,7))(inp1)\n",
    "    acv1 = LeakyReLU()(l11)\n",
    "    l12 = Flatten()(acv1)\n",
    "\n",
    "    inp2 = Input(shape=(extra_info_dim,))\n",
    "    cc1 = concatenate([l12, inp2], axis=1)\n",
    "    \n",
    "    l13 =  Dense(512)(cc1)\n",
    "    acv2 = ReLU()(l13)\n",
    "\n",
    "    l14 =  Dense(128)(acv2)\n",
    "    acv3 = ReLU()(l14)\n",
    "       \n",
    "    output = Dense(num_classes, activation='softmax')(acv3)\n",
    "  \n",
    "    model = Model(inputs=[inp1, inp2], outputs=output)\n",
    "    model.compile(optimizer='RMSprop', loss='categorical_crossentropy', metrics=[\"accuracy\"])\n",
    "    model.reset_states()\n",
    "    \n",
    "    return model\n",
    "\n"
   ]
  },
  {
   "cell_type": "code",
   "execution_count": 22,
   "metadata": {
    "colab": {
     "base_uri": "https://localhost:8080/",
     "height": 555
    },
    "colab_type": "code",
    "executionInfo": {
     "elapsed": 1997,
     "status": "ok",
     "timestamp": 1588073853399,
     "user": {
      "displayName": "DANIEL CARVAJAL PATINO",
      "photoUrl": "https://lh3.googleusercontent.com/a-/AOh14GhxBZtj3mQtzEEZFtBw3AsNbetTt5sdp9LZMJsb=s64",
      "userId": "02012202667471862451"
     },
     "user_tz": 300
    },
    "id": "NNjWjpHhvsPK",
    "outputId": "713325d6-6918-4881-83c4-77d607347968",
    "scrolled": false
   },
   "outputs": [
    {
     "name": "stdout",
     "output_type": "stream",
     "text": [
      "Model: \"model\"\n",
      "__________________________________________________________________________________________________\n",
      "Layer (type)                    Output Shape         Param #     Connected to                     \n",
      "==================================================================================================\n",
      "input_1 (InputLayer)            [(None, 128, 128, 1) 0                                            \n",
      "__________________________________________________________________________________________________\n",
      "conv2d (Conv2D)                 (None, 122, 122, 64) 3200        input_1[0][0]                    \n",
      "__________________________________________________________________________________________________\n",
      "leaky_re_lu (LeakyReLU)         (None, 122, 122, 64) 0           conv2d[0][0]                     \n",
      "__________________________________________________________________________________________________\n",
      "flatten (Flatten)               (None, 952576)       0           leaky_re_lu[0][0]                \n",
      "__________________________________________________________________________________________________\n",
      "input_2 (InputLayer)            [(None, 194)]        0                                            \n",
      "__________________________________________________________________________________________________\n",
      "concatenate (Concatenate)       (None, 952770)       0           flatten[0][0]                    \n",
      "                                                                 input_2[0][0]                    \n",
      "__________________________________________________________________________________________________\n",
      "dense (Dense)                   (None, 512)          487818752   concatenate[0][0]                \n",
      "__________________________________________________________________________________________________\n",
      "re_lu (ReLU)                    (None, 512)          0           dense[0][0]                      \n",
      "__________________________________________________________________________________________________\n",
      "dense_1 (Dense)                 (None, 128)          65664       re_lu[0][0]                      \n",
      "__________________________________________________________________________________________________\n",
      "re_lu_1 (ReLU)                  (None, 128)          0           dense_1[0][0]                    \n",
      "__________________________________________________________________________________________________\n",
      "dense_2 (Dense)                 (None, 99)           12771       re_lu_1[0][0]                    \n",
      "==================================================================================================\n",
      "Total params: 487,900,387\n",
      "Trainable params: 487,900,387\n",
      "Non-trainable params: 0\n",
      "__________________________________________________________________________________________________\n"
     ]
    }
   ],
   "source": [
    "model = model_OD1(input_dim=X_train_images.shape, extra_info_dim=X_train_f.shape[1], num_classes=num_classes)\n",
    "model.summary()"
   ]
  },
  {
   "cell_type": "code",
   "execution_count": 23,
   "metadata": {
    "colab": {
     "base_uri": "https://localhost:8080/",
     "height": 225
    },
    "colab_type": "code",
    "executionInfo": {
     "elapsed": 21632,
     "status": "ok",
     "timestamp": 1588073873263,
     "user": {
      "displayName": "DANIEL CARVAJAL PATINO",
      "photoUrl": "https://lh3.googleusercontent.com/a-/AOh14GhxBZtj3mQtzEEZFtBw3AsNbetTt5sdp9LZMJsb=s64",
      "userId": "02012202667471862451"
     },
     "user_tz": 300
    },
    "id": "QUZ74nykvsPO",
    "outputId": "0ad69d51-9e6d-4776-dcdf-f0e33aa4b559",
    "scrolled": false
   },
   "outputs": [
    {
     "name": "stdout",
     "output_type": "stream",
     "text": [
      "Epoch 1/5\n",
      "35/35 [==============================] - 4s 100ms/step - loss: 6.9721 - accuracy: 0.0924\n",
      "Epoch 2/5\n",
      "35/35 [==============================] - 3s 100ms/step - loss: 2.6420 - accuracy: 0.3333\n",
      "Epoch 3/5\n",
      "35/35 [==============================] - 3s 100ms/step - loss: 1.7134 - accuracy: 0.5411\n",
      "Epoch 4/5\n",
      "35/35 [==============================] - 3s 100ms/step - loss: 1.0391 - accuracy: 0.7056\n",
      "Epoch 5/5\n",
      "35/35 [==============================] - 3s 100ms/step - loss: 0.7770 - accuracy: 0.7605\n",
      "CPU times: user 11.2 s, sys: 6.46 s, total: 17.7 s\n",
      "Wall time: 20 s\n"
     ]
    }
   ],
   "source": [
    "%%time\n",
    "history = model.fit([X_train_images, X_train_f], y_train_oh, epochs=5, batch_size=20)"
   ]
  },
  {
   "cell_type": "code",
   "execution_count": 24,
   "metadata": {
    "colab": {
     "base_uri": "https://localhost:8080/",
     "height": 244
    },
    "colab_type": "code",
    "executionInfo": {
     "elapsed": 21764,
     "status": "ok",
     "timestamp": 1588073873574,
     "user": {
      "displayName": "DANIEL CARVAJAL PATINO",
      "photoUrl": "https://lh3.googleusercontent.com/a-/AOh14GhxBZtj3mQtzEEZFtBw3AsNbetTt5sdp9LZMJsb=s64",
      "userId": "02012202667471862451"
     },
     "user_tz": 300
    },
    "id": "u61wdZJtvsPV",
    "outputId": "14e28aae-1ea6-4f9e-f3d6-b8f604ccfdbf"
   },
   "outputs": [
    {
     "data": {
      "text/plain": [
       "Text(0.5, 1.0, 'Train performance')"
      ]
     },
     "execution_count": 24,
     "metadata": {
      "tags": []
     },
     "output_type": "execute_result"
    },
    {
     "data": {
      "image/png": "[encoded data removed]",
      "text/plain": [
       "<Figure size 720x216 with 1 Axes>"
      ]
     },
     "metadata": {
      "needs_background": "light",
      "tags": []
     },
     "output_type": "display_data"
    }
   ],
   "source": [
    "plt.figure(figsize=(10,3))\n",
    "plt.plot(history.history[\"loss\"], label=\"loss\", marker=\"o\")\n",
    "plt.plot(history.history[\"accuracy\"], label=\"accuracy\", marker=\"o\")\n",
    "plt.grid()\n",
    "plt.legend()\n",
    "plt.title(\"Train performance\")"
   ]
  },
  {
   "cell_type": "code",
   "execution_count": 25,
   "metadata": {
    "colab": {
     "base_uri": "https://localhost:8080/",
     "height": 52
    },
    "colab_type": "code",
    "executionInfo": {
     "elapsed": 21916,
     "status": "ok",
     "timestamp": 1588073873894,
     "user": {
      "displayName": "DANIEL CARVAJAL PATINO",
      "photoUrl": "https://lh3.googleusercontent.com/a-/AOh14GhxBZtj3mQtzEEZFtBw3AsNbetTt5sdp9LZMJsb=s64",
      "userId": "02012202667471862451"
     },
     "user_tz": 300
    },
    "id": "m-kjnit0vsPb",
    "outputId": "ba001c8f-b874-435e-e437-79d063562982",
    "scrolled": true
   },
   "outputs": [
    {
     "name": "stdout",
     "output_type": "stream",
     "text": [
      "train accuracy 0.8455988455988456\n",
      "test accuracy  0.45791245791245794\n"
     ]
    }
   ],
   "source": [
    "preds_train = model.predict([X_train_images, X_train_f]).argmax(axis=1)\n",
    "preds_test = model.predict([X_test_images, X_test_f]).argmax(axis=1)\n",
    "\n",
    "print(\"train accuracy {}\".format((preds_train == y_train).mean()))\n",
    "print(\"test accuracy  {}\".format((preds_test == y_test).mean()))"
   ]
  },
  {
   "cell_type": "code",
   "execution_count": 26,
   "metadata": {
    "colab": {
     "base_uri": "https://localhost:8080/",
     "height": 421
    },
    "colab_type": "code",
    "executionInfo": {
     "elapsed": 21465,
     "status": "ok",
     "timestamp": 1588073874149,
     "user": {
      "displayName": "DANIEL CARVAJAL PATINO",
      "photoUrl": "https://lh3.googleusercontent.com/a-/AOh14GhxBZtj3mQtzEEZFtBw3AsNbetTt5sdp9LZMJsb=s64",
      "userId": "02012202667471862451"
     },
     "user_tz": 300
    },
    "id": "fj_FtTJZELB-",
    "outputId": "79be85e9-f3c2-40e1-8cf6-280493a0aae9"
   },
   "outputs": [
    {
     "data": {
      "text/plain": [
       "Text(0, 0.5, 'y_pred')"
      ]
     },
     "execution_count": 26,
     "metadata": {
      "tags": []
     },
     "output_type": "execute_result"
    },
    {
     "data": {
      "image/png": "[encoded data removed]",
      "text/plain": [
       "<Figure size 432x432 with 1 Axes>"
      ]
     },
     "metadata": {
      "needs_background": "light",
      "tags": []
     },
     "output_type": "display_data"
    }
   ],
   "source": [
    "cm = confusion_matrix(y_pred=preds_test, y_true=y_test)\n",
    "\n",
    "plt.figure(figsize=(6,6))\n",
    "plt.imshow(cm, aspect=\"auto\", cmap=\"Blues\")\n",
    "plt.title(\"confusion matrix\")\n",
    "plt.xlabel(\"y_true\")\n",
    "plt.ylabel(\"y_pred\")"
   ]
  },
  {
   "cell_type": "markdown",
   "metadata": {
    "colab_type": "text",
    "id": "jUN7clUjEL4e"
   },
   "source": [
    "## Instability"
   ]
  },
  {
   "cell_type": "code",
   "execution_count": 27,
   "metadata": {
    "colab": {
     "base_uri": "https://localhost:8080/",
     "height": 753
    },
    "colab_type": "code",
    "executionInfo": {
     "elapsed": 38885,
     "status": "ok",
     "timestamp": 1588073893236,
     "user": {
      "displayName": "DANIEL CARVAJAL PATINO",
      "photoUrl": "https://lh3.googleusercontent.com/a-/AOh14GhxBZtj3mQtzEEZFtBw3AsNbetTt5sdp9LZMJsb=s64",
      "userId": "02012202667471862451"
     },
     "user_tz": 300
    },
    "id": "3tHTvZaVyXe0",
    "outputId": "0f5af113-883d-4374-f99e-98a02f5531d8"
   },
   "outputs": [
    {
     "name": "stdout",
     "output_type": "stream",
     "text": [
      "Building onehot target ... ok\n",
      "Reshaping image ... ok\n",
      "Training model ... ok\n",
      "Checking results ...\n"
     ]
    },
    {
     "data": {
      "image/png": "[encoded data removed]",
      "text/plain": [
       "<Figure size 720x216 with 1 Axes>"
      ]
     },
     "metadata": {
      "needs_background": "light",
      "tags": []
     },
     "output_type": "display_data"
    },
    {
     "name": "stdout",
     "output_type": "stream",
     "text": [
      "train accuracy 0.847041847041847\n",
      "test accuracy  0.5117845117845118\n"
     ]
    },
    {
     "data": {
      "image/png": "[encoded data removed]",
      "text/plain": [
       "<Figure size 432x432 with 1 Axes>"
      ]
     },
     "metadata": {
      "needs_background": "light",
      "tags": []
     },
     "output_type": "display_data"
    },
    {
     "name": "stdout",
     "output_type": "stream",
     "text": [
      "CPU times: user 2.86 s, sys: 984 ms, total: 3.84 s\n",
      "Wall time: 18.9 s\n"
     ]
    }
   ],
   "source": [
    "%%time\n",
    "lib.multimodal_experiment(get_model=model_OD1, img_X_train=X_train_images, fea_X_train=X_train_f, img_X_test=X_test_images,\n",
    "                          fea_X_test=X_test_f, y_train=y_train, y_test=y_test, num_classes=num_classes, verbose=0, epochs=5, batch_size=20)"
   ]
  },
  {
   "cell_type": "code",
   "execution_count": 28,
   "metadata": {
    "colab": {
     "base_uri": "https://localhost:8080/",
     "height": 753
    },
    "colab_type": "code",
    "executionInfo": {
     "elapsed": 19642,
     "status": "ok",
     "timestamp": 1588074021410,
     "user": {
      "displayName": "DANIEL CARVAJAL PATINO",
      "photoUrl": "https://lh3.googleusercontent.com/a-/AOh14GhxBZtj3mQtzEEZFtBw3AsNbetTt5sdp9LZMJsb=s64",
      "userId": "02012202667471862451"
     },
     "user_tz": 300
    },
    "id": "NllJ4YQQlAJP",
    "outputId": "9f550355-ad49-4c05-d105-8479e0a5d311"
   },
   "outputs": [
    {
     "name": "stdout",
     "output_type": "stream",
     "text": [
      "Building onehot target ... ok\n",
      "Reshaping image ... ok\n",
      "Training model ... ok\n",
      "Checking results ...\n"
     ]
    },
    {
     "data": {
      "image/png": "[encoded data removed]",
      "text/plain": [
       "<Figure size 720x216 with 1 Axes>"
      ]
     },
     "metadata": {
      "needs_background": "light",
      "tags": []
     },
     "output_type": "display_data"
    },
    {
     "name": "stdout",
     "output_type": "stream",
     "text": [
      "train accuracy 0.8181818181818182\n",
      "test accuracy  0.43434343434343436\n"
     ]
    },
    {
     "data": {
      "image/png": "[encoded data removed]",
      "text/plain": [
       "<Figure size 432x432 with 1 Axes>"
      ]
     },
     "metadata": {
      "needs_background": "light",
      "tags": []
     },
     "output_type": "display_data"
    },
    {
     "name": "stdout",
     "output_type": "stream",
     "text": [
      "CPU times: user 3.05 s, sys: 952 ms, total: 4.01 s\n",
      "Wall time: 19.1 s\n"
     ]
    }
   ],
   "source": [
    "%%time\n",
    "lib.multimodal_experiment(get_model=model_OD1, img_X_train=X_train_images, fea_X_train=X_train_f, img_X_test=X_test_images,\n",
    "                          fea_X_test=X_test_f, y_train=y_train, y_test=y_test, num_classes=num_classes, verbose=0, epochs=5, batch_size=20)"
   ]
  },
  {
   "cell_type": "code",
   "execution_count": 13,
   "metadata": {
    "colab": {
     "base_uri": "https://localhost:8080/",
     "height": 753
    },
    "colab_type": "code",
    "executionInfo": {
     "elapsed": 908629,
     "status": "ok",
     "timestamp": 1588075167603,
     "user": {
      "displayName": "DANIEL CARVAJAL PATINO",
      "photoUrl": "https://lh3.googleusercontent.com/a-/AOh14GhxBZtj3mQtzEEZFtBw3AsNbetTt5sdp9LZMJsb=s64",
      "userId": "02012202667471862451"
     },
     "user_tz": 300
    },
    "id": "BSSXDgb5lAOo",
    "outputId": "a4fa9743-7c7d-4aed-8f44-8d5eb4372a29"
   },
   "outputs": [
    {
     "name": "stdout",
     "output_type": "stream",
     "text": [
      "Building onehot target ... ok\n",
      "Reshaping image ... ok\n",
      "Training model ... ok\n",
      "Checking results ...\n"
     ]
    },
    {
     "data": {
      "image/png": "[encoded data removed]",
      "text/plain": [
       "<Figure size 720x216 with 1 Axes>"
      ]
     },
     "metadata": {
      "needs_background": "light",
      "tags": []
     },
     "output_type": "display_data"
    },
    {
     "name": "stdout",
     "output_type": "stream",
     "text": [
      "train accuracy 0.7835497835497836\n",
      "test accuracy  0.45454545454545453\n"
     ]
    },
    {
     "data": {
      "image/png": "[encoded data removed]",
      "text/plain": [
       "<Figure size 432x432 with 1 Axes>"
      ]
     },
     "metadata": {
      "needs_background": "light",
      "tags": []
     },
     "output_type": "display_data"
    },
    {
     "name": "stdout",
     "output_type": "stream",
     "text": [
      "CPU times: user 28min 57s, sys: 37.8 s, total: 29min 35s\n",
      "Wall time: 15min 4s\n"
     ]
    }
   ],
   "source": [
    "%%time\n",
    "lib.multimodal_experiment(get_model=model_OD1, img_X_train=X_train_images, fea_X_train=X_train_f, img_X_test=X_test_images,\n",
    "                          fea_X_test=X_test_f, y_train=y_train, y_test=y_test, num_classes=num_classes, verbose=0, epochs=5, batch_size=20)"
   ]
  },
  {
   "cell_type": "markdown",
   "metadata": {
    "colab_type": "text",
    "id": "_-g31jNVERkk"
   },
   "source": [
    "## Increase dense complexity"
   ]
  },
  {
   "cell_type": "code",
   "execution_count": 0,
   "metadata": {
    "colab": {},
    "colab_type": "code",
    "id": "qWwd7Jh52dUO"
   },
   "outputs": [],
   "source": [
    "def model_OD3(input_dim, extra_info_dim, num_classes):\n",
    "    \n",
    "    clear_session()\n",
    "    inp1 = Input(shape=(input_dim[1],input_dim[2],1))\n",
    "    l11 = Conv2D(16, (7,7))(inp1)\n",
    "    acv1 = ReLU()(l11)\n",
    "    l12 = Flatten()(acv1)\n",
    "\n",
    "    inp2 = Input(shape=(extra_info_dim,))\n",
    "    cc1 = concatenate([l12, inp2], axis=1)\n",
    "    \n",
    "    l13 =  Dense(256)(cc1)\n",
    "    acv2 = ReLU()(l13)\n",
    "    drop1 = Dropout(0.5)(acv2)\n",
    "\n",
    "    l14 =  Dense(256)(drop1)\n",
    "    acv3 = ReLU()(l14)\n",
    "    drop2 = Dropout(0.5)(acv3)\n",
    "\n",
    "    l15 =  Dense(128)(drop2)\n",
    "    acv4 = ReLU()(l15)\n",
    "       \n",
    "    output = Dense(num_classes, activation='softmax')(acv4)\n",
    "  \n",
    "    model = Model(inputs=[inp1, inp2], outputs=output)\n",
    "    model.compile(optimizer='RMSprop', loss='categorical_crossentropy', metrics=[\"accuracy\"])\n",
    "    model.reset_states()\n",
    "    \n",
    "    return model\n",
    "\n"
   ]
  },
  {
   "cell_type": "code",
   "execution_count": 16,
   "metadata": {
    "colab": {
     "base_uri": "https://localhost:8080/",
     "height": 753
    },
    "colab_type": "code",
    "executionInfo": {
     "elapsed": 130843,
     "status": "ok",
     "timestamp": 1588077851538,
     "user": {
      "displayName": "DANIEL CARVAJAL PATINO",
      "photoUrl": "https://lh3.googleusercontent.com/a-/AOh14GhxBZtj3mQtzEEZFtBw3AsNbetTt5sdp9LZMJsb=s64",
      "userId": "02012202667471862451"
     },
     "user_tz": 300
    },
    "id": "Xlo07Wm22daV",
    "outputId": "e35ec131-0ba2-4fe9-9388-a30bd20a82d0",
    "scrolled": false
   },
   "outputs": [
    {
     "name": "stdout",
     "output_type": "stream",
     "text": [
      "Building onehot target ... ok\n",
      "Reshaping image ... ok\n",
      "Training model ... ok\n",
      "Checking results ...\n"
     ]
    },
    {
     "data": {
      "image/png": "[encoded data removed]",
      "text/plain": [
       "<Figure size 720x216 with 1 Axes>"
      ]
     },
     "metadata": {
      "needs_background": "light",
      "tags": []
     },
     "output_type": "display_data"
    },
    {
     "name": "stdout",
     "output_type": "stream",
     "text": [
      "train accuracy 0.5613275613275613\n",
      "test accuracy  0.3771043771043771\n"
     ]
    },
    {
     "data": {
      "image/png": "[encoded data removed]",
      "text/plain": [
       "<Figure size 432x432 with 1 Axes>"
      ]
     },
     "metadata": {
      "needs_background": "light",
      "tags": []
     },
     "output_type": "display_data"
    },
    {
     "name": "stdout",
     "output_type": "stream",
     "text": [
      "CPU times: user 4min 9s, sys: 4.53 s, total: 4min 13s\n",
      "Wall time: 2min 10s\n"
     ]
    }
   ],
   "source": [
    "%%time\n",
    "lib.multimodal_experiment(get_model=model_OD3, img_X_train=X_train_images, fea_X_train=X_train_f, img_X_test=X_test_images,\n",
    "                          fea_X_test=X_test_f, y_train=y_train, y_test=y_test, num_classes=num_classes, verbose=0, epochs=5, batch_size=20)"
   ]
  },
  {
   "cell_type": "markdown",
   "metadata": {
    "colab_type": "text",
    "id": "TiCHkqlk03RQ"
   },
   "source": [
    "## Increase convolutional complexity\n",
    "Problems with the resource."
   ]
  }
 ],
 "metadata": {
  "colab": {
   "collapsed_sections": [],
   "name": "09 -  Multimodal arquitecture - center image.ipynb",
   "provenance": [
    {
     "file_id": "https://github.com/DaielChom/ann_leaf_classification/blob/master/0X%20-%20%20Multimodal%20arquitecture%20-%20resize%20image.ipynb",
     "timestamp": 1588026343118
    }
   ],
   "toc_visible": true
  },
  "kernelspec": {
   "display_name": "Python 3",
   "language": "python",
   "name": "python3"
  },
  "language_info": {
   "codemirror_mode": {
    "name": "ipython",
    "version": 3
   },
   "file_extension": ".py",
   "mimetype": "text/x-python",
   "name": "python",
   "nbconvert_exporter": "python",
   "pygments_lexer": "ipython3",
   "version": "3.7.5"
  }
 },
 "nbformat": 4,
 "nbformat_minor": 1
}
