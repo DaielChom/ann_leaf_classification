{
 "cells": [
  {
   "cell_type": "code",
   "execution_count": 11,
   "metadata": {},
   "outputs": [
    {
     "name": "stderr",
     "output_type": "stream",
     "text": [
      "Using TensorFlow backend.\n"
     ]
    }
   ],
   "source": [
    "import numpy as np\n",
    "import pandas as pd\n",
    "from sklearn.preprocessing import LabelEncoder\n",
    "from sklearn.preprocessing import StandardScaler\n",
    "from sklearn.model_selection import StratifiedShuffleSplit\n",
    "from keras.models import Sequential\n",
    "from keras.layers import Dense, Activation, Flatten, Convolution1D, Dropout\n",
    "from keras.optimizers import SGD\n",
    "from keras.utils import np_utils\n",
    "import warnings; warnings.simplefilter('ignore')\n",
    "import tensorflow as tf"
   ]
  },
  {
   "cell_type": "code",
   "execution_count": 12,
   "metadata": {},
   "outputs": [],
   "source": [
    "data_dir = \"/home/user/DeepLearning/projects/datasets/leaf_classification/\""
   ]
  },
  {
   "cell_type": "code",
   "execution_count": 13,
   "metadata": {},
   "outputs": [],
   "source": [
    "train = pd.read_csv(data_dir+\"/train.csv\")\n",
    "test = pd.read_csv(data_dir+\"/test.csv\")"
   ]
  },
  {
   "cell_type": "code",
   "execution_count": 16,
   "metadata": {},
   "outputs": [],
   "source": [
    "def encode(train, test):\n",
    "    label_encoder = LabelEncoder().fit(train.species)\n",
    "    labels = label_encoder.transform(train.species)\n",
    "    classes = list(label_encoder.classes_)\n",
    "\n",
    "    train = train.drop(['species', 'id'], axis=1)\n",
    "    test = test.drop('id', axis=1)\n",
    "\n",
    "    return train, labels, test, classes"
   ]
  },
  {
   "cell_type": "code",
   "execution_count": 17,
   "metadata": {},
   "outputs": [],
   "source": [
    "train, labels, test, classes = encode(train, test)"
   ]
  },
  {
   "cell_type": "code",
   "execution_count": 6,
   "metadata": {},
   "outputs": [
    {
     "name": "stdout",
     "output_type": "stream",
     "text": [
      "There are 99 classes for the classification task.\n"
     ]
    }
   ],
   "source": [
    "num_classes = train.species.value_counts().shape[0]\n",
    "print(\"There are {} classes for the classification task.\".format(num_classes))"
   ]
  },
  {
   "cell_type": "code",
   "execution_count": 22,
   "metadata": {},
   "outputs": [],
   "source": [
    "# standardize train features\n",
    "scaler = StandardScaler().fit(train.values)\n",
    "scaled_train = scaler.transform(train.values)"
   ]
  },
  {
   "cell_type": "code",
   "execution_count": 23,
   "metadata": {},
   "outputs": [],
   "source": [
    "# split train data into train and validation\n",
    "sss = StratifiedShuffleSplit(test_size=0.1, random_state=23)\n",
    "for train_index, valid_index in sss.split(scaled_train, labels):\n",
    "    X_train, X_valid = scaled_train[train_index], scaled_train[valid_index]\n",
    "    y_train, y_valid = labels[train_index], labels[valid_index]"
   ]
  },
  {
   "cell_type": "code",
   "execution_count": 24,
   "metadata": {},
   "outputs": [
    {
     "data": {
      "text/plain": [
       "((891, 192), (99, 192))"
      ]
     },
     "execution_count": 24,
     "metadata": {},
     "output_type": "execute_result"
    }
   ],
   "source": [
    "nb_features = 64\n",
    "X_train.shape ,X_valid.shape"
   ]
  },
  {
   "cell_type": "markdown",
   "metadata": {},
   "source": [
    "### number of features per features type (shape, texture, margin)"
   ]
  },
  {
   "cell_type": "code",
   "execution_count": 25,
   "metadata": {},
   "outputs": [],
   "source": [
    "nb_class = len(classes)"
   ]
  },
  {
   "cell_type": "code",
   "execution_count": 26,
   "metadata": {},
   "outputs": [],
   "source": [
    "# reshape train data\n",
    "X_train_r = np.zeros((len(X_train), nb_features, 3))\n",
    "X_train_r[:, :, 0] = X_train[:, :nb_features]\n",
    "X_train_r[:, :, 1] = X_train[:, nb_features:128]\n",
    "X_train_r[:, :, 2] = X_train[:, 128:]"
   ]
  },
  {
   "cell_type": "code",
   "execution_count": 29,
   "metadata": {},
   "outputs": [],
   "source": [
    "# reshape validation data\n",
    "X_valid_r = np.zeros((len(X_valid), nb_features, 3))\n",
    "X_valid_r[:, :, 0] = X_valid[:, :nb_features]\n",
    "X_valid_r[:, :, 1] = X_valid[:, nb_features:128]\n",
    "X_valid_r[:, :, 2] = X_valid[:, 128:]"
   ]
  },
  {
   "cell_type": "code",
   "execution_count": 30,
   "metadata": {},
   "outputs": [],
   "source": [
    "# Keras model with one Convolution1D layer\n",
    "# unfortunately more number of covnolutional layers, filters and filters lenght \n",
    "# don't give better accuracy\n",
    "model = Sequential()\n",
    "model.add(Convolution1D(nb_filter=512, filter_length=1, input_shape=(nb_features, 3)))\n",
    "model.add(Activation('relu'))\n",
    "model.add(Flatten())\n",
    "model.add(Dropout(0.4))\n",
    "model.add(Dense(2048, activation='relu'))\n",
    "model.add(Dense(1024, activation='relu'))\n",
    "model.add(Dense(nb_class))\n",
    "model.add(Activation('softmax'))"
   ]
  },
  {
   "cell_type": "code",
   "execution_count": 31,
   "metadata": {},
   "outputs": [],
   "source": [
    "y_train = np_utils.to_categorical(y_train, nb_class)\n",
    "y_valid = np_utils.to_categorical(y_valid, nb_class)"
   ]
  },
  {
   "cell_type": "code",
   "execution_count": 32,
   "metadata": {},
   "outputs": [],
   "source": [
    "sgd = SGD(lr=0.01, nesterov=True, decay=1e-6, momentum=0.9)\n",
    "model.compile(loss='categorical_crossentropy',optimizer=sgd,metrics=['accuracy'])"
   ]
  },
  {
   "cell_type": "code",
   "execution_count": 33,
   "metadata": {},
   "outputs": [
    {
     "name": "stdout",
     "output_type": "stream",
     "text": [
      "Train on 891 samples, validate on 99 samples\n",
      "Epoch 1/15\n",
      "891/891 [==============================] - 32s 36ms/step - loss: 3.6277 - accuracy: 0.2413 - val_loss: 1.4409 - val_accuracy: 0.6970\n",
      "Epoch 2/15\n",
      "891/891 [==============================] - 31s 35ms/step - loss: 0.6743 - accuracy: 0.8563 - val_loss: 0.3708 - val_accuracy: 0.8788\n",
      "Epoch 3/15\n",
      "891/891 [==============================] - 32s 36ms/step - loss: 0.1054 - accuracy: 0.9809 - val_loss: 0.1830 - val_accuracy: 0.9394\n",
      "Epoch 4/15\n",
      "891/891 [==============================] - 31s 35ms/step - loss: 0.0560 - accuracy: 0.9877 - val_loss: 0.2538 - val_accuracy: 0.9596\n",
      "Epoch 5/15\n",
      "891/891 [==============================] - 34s 38ms/step - loss: 0.1125 - accuracy: 0.9832 - val_loss: 0.1423 - val_accuracy: 0.9596\n",
      "Epoch 6/15\n",
      "891/891 [==============================] - 35s 40ms/step - loss: 0.0140 - accuracy: 0.9966 - val_loss: 0.1973 - val_accuracy: 0.9394\n",
      "Epoch 7/15\n",
      "891/891 [==============================] - 34s 38ms/step - loss: 0.0134 - accuracy: 0.9978 - val_loss: 0.1291 - val_accuracy: 0.9495\n",
      "Epoch 8/15\n",
      "891/891 [==============================] - 36s 41ms/step - loss: 0.0040 - accuracy: 1.0000 - val_loss: 0.1140 - val_accuracy: 0.9697\n",
      "Epoch 9/15\n",
      "891/891 [==============================] - 34s 38ms/step - loss: 0.0066 - accuracy: 0.9978 - val_loss: 0.1358 - val_accuracy: 0.9596\n",
      "Epoch 10/15\n",
      "891/891 [==============================] - 33s 37ms/step - loss: 0.0163 - accuracy: 0.9978 - val_loss: 0.1202 - val_accuracy: 0.9596\n",
      "Epoch 11/15\n",
      "891/891 [==============================] - 31s 35ms/step - loss: 0.0055 - accuracy: 0.9989 - val_loss: 0.1192 - val_accuracy: 0.9596\n",
      "Epoch 12/15\n",
      "891/891 [==============================] - 31s 35ms/step - loss: 0.0020 - accuracy: 1.0000 - val_loss: 0.1147 - val_accuracy: 0.9697\n",
      "Epoch 13/15\n",
      "891/891 [==============================] - 31s 35ms/step - loss: 0.0017 - accuracy: 1.0000 - val_loss: 0.1158 - val_accuracy: 0.9697\n",
      "Epoch 14/15\n",
      "891/891 [==============================] - 31s 35ms/step - loss: 0.0015 - accuracy: 1.0000 - val_loss: 0.1146 - val_accuracy: 0.9697\n",
      "Epoch 15/15\n",
      "891/891 [==============================] - 31s 35ms/step - loss: 0.0014 - accuracy: 1.0000 - val_loss: 0.1101 - val_accuracy: 0.9697\n"
     ]
    },
    {
     "data": {
      "text/plain": [
       "<keras.callbacks.callbacks.History at 0x7fa09c259a20>"
      ]
     },
     "execution_count": 33,
     "metadata": {},
     "output_type": "execute_result"
    }
   ],
   "source": [
    "nb_epoch = 15\n",
    "model.fit(X_train_r, y_train, nb_epoch=nb_epoch, validation_data=(X_valid_r, y_valid), batch_size=16)"
   ]
  },
  {
   "cell_type": "code",
   "execution_count": null,
   "metadata": {},
   "outputs": [],
   "source": []
  }
 ],
 "metadata": {
  "kernelspec": {
   "display_name": "p37",
   "language": "python",
   "name": "python3"
  },
  "language_info": {
   "codemirror_mode": {
    "name": "ipython",
    "version": 3
   },
   "file_extension": ".py",
   "mimetype": "text/x-python",
   "name": "python",
   "nbconvert_exporter": "python",
   "pygments_lexer": "ipython3",
   "version": "3.7.3"
  }
 },
 "nbformat": 4,
 "nbformat_minor": 2
}
