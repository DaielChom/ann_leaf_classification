{
  "nbformat": 4,
  "nbformat_minor": 0,
  "metadata": {
    "kernelspec": {
      "display_name": "p37",
      "language": "python",
      "name": "python3"
    },
    "language_info": {
      "codemirror_mode": {
        "name": "ipython",
        "version": 3
      },
      "file_extension": ".py",
      "mimetype": "text/x-python",
      "name": "python",
      "nbconvert_exporter": "python",
      "pygments_lexer": "ipython3",
      "version": "3.7.3"
    },
    "colab": {
      "name": "05 - Leaf classification with  CNN.ipynb",
      "provenance": []
    }
  },
  "cells": [
    {
      "cell_type": "markdown",
      "metadata": {
        "id": "4HuqvoCFzQUm",
        "colab_type": "text"
      },
      "source": [
        "#### Preparing data\n",
        "Run the next cells to download and prepare the datasets and util functions"
      ]
    },
    {
      "cell_type": "code",
      "metadata": {
        "id": "OHBISCWZQaAw",
        "colab_type": "code",
        "colab": {}
      },
      "source": [
        "import sys\n",
        "download_data = False\n",
        "\n",
        "if 'google.colab' in sys.modules:\n",
        "    download_data = True"
      ],
      "execution_count": 0,
      "outputs": []
    },
    {
      "cell_type": "code",
      "metadata": {
        "id": "LLNh5uCiQeSK",
        "colab_type": "code",
        "colab": {}
      },
      "source": [
        "if download_data:\n",
        "    !wget --no-cache -O init.py -q https://raw.githubusercontent.com/DaielChom/ann_leaf_classification/master/init.py\n",
        "    from init import download_utils, unzip_leaf_dataset, dataset_dir\n",
        "    download_utils(force_download=False)"
      ],
      "execution_count": 0,
      "outputs": []
    },
    {
      "cell_type": "code",
      "metadata": {
        "id": "LB_F8VbfQhbu",
        "colab_type": "code",
        "outputId": "d938d1f5-8827-4ddf-cdea-b35c54af56c6",
        "colab": {
          "base_uri": "https://localhost:8080/",
          "height": 471
        }
      },
      "source": [
        "if download_data:\n",
        "    !mkdir ./local/datasets/\n",
        "    !wget --load-cookies /tmp/cookies.txt \"https://docs.google.com/uc?export=download&confirm=$(wget --quiet --save-cookies /tmp/cookies.txt --keep-session-cookies --no-check-certificate 'https://docs.google.com/uc?export=download&id=1g5MPhz2YEW5nyuUqacQ_GVWpeDjVG-Cf' -O- | sed -rn 's/.*confirm=([0-9A-Za-z_]+).*/\\1\\n/p')&id=1g5MPhz2YEW5nyuUqacQ_GVWpeDjVG-Cf\" -O local/datasets/leaf.zip && rm -rf /tmp/cookies.txt"
      ],
      "execution_count": 28,
      "outputs": [
        {
          "output_type": "stream",
          "text": [
            "mkdir: cannot create directory ‘./local/datasets/’: File exists\n",
            "--2020-04-30 02:53:05--  https://docs.google.com/uc?export=download&confirm=MB3e&id=1g5MPhz2YEW5nyuUqacQ_GVWpeDjVG-Cf\n",
            "Resolving docs.google.com (docs.google.com)... 108.177.97.100, 108.177.97.138, 108.177.97.113, ...\n",
            "Connecting to docs.google.com (docs.google.com)|108.177.97.100|:443... connected.\n",
            "HTTP request sent, awaiting response... 302 Moved Temporarily\n",
            "Location: https://doc-0o-2o-docs.googleusercontent.com/docs/securesc/4ok50s6omgbjno8gnrct2op4q5tdd0m8/jmt2sfu078312dh46gctvmv2utaqjgn9/1588215150000/02012202667471862451/05396124748033419632Z/1g5MPhz2YEW5nyuUqacQ_GVWpeDjVG-Cf?e=download [following]\n",
            "--2020-04-30 02:53:06--  https://doc-0o-2o-docs.googleusercontent.com/docs/securesc/4ok50s6omgbjno8gnrct2op4q5tdd0m8/jmt2sfu078312dh46gctvmv2utaqjgn9/1588215150000/02012202667471862451/05396124748033419632Z/1g5MPhz2YEW5nyuUqacQ_GVWpeDjVG-Cf?e=download\n",
            "Resolving doc-0o-2o-docs.googleusercontent.com (doc-0o-2o-docs.googleusercontent.com)... 108.177.125.132, 2404:6800:4008:c01::84\n",
            "Connecting to doc-0o-2o-docs.googleusercontent.com (doc-0o-2o-docs.googleusercontent.com)|108.177.125.132|:443... connected.\n",
            "HTTP request sent, awaiting response... 302 Found\n",
            "Location: https://docs.google.com/nonceSigner?nonce=nhn3apa5bm6gs&continue=https://doc-0o-2o-docs.googleusercontent.com/docs/securesc/4ok50s6omgbjno8gnrct2op4q5tdd0m8/jmt2sfu078312dh46gctvmv2utaqjgn9/1588215150000/02012202667471862451/05396124748033419632Z/1g5MPhz2YEW5nyuUqacQ_GVWpeDjVG-Cf?e%3Ddownload&hash=fnmbai005fh537mor5bdgq1sli8bdkbr [following]\n",
            "--2020-04-30 02:53:06--  https://docs.google.com/nonceSigner?nonce=nhn3apa5bm6gs&continue=https://doc-0o-2o-docs.googleusercontent.com/docs/securesc/4ok50s6omgbjno8gnrct2op4q5tdd0m8/jmt2sfu078312dh46gctvmv2utaqjgn9/1588215150000/02012202667471862451/05396124748033419632Z/1g5MPhz2YEW5nyuUqacQ_GVWpeDjVG-Cf?e%3Ddownload&hash=fnmbai005fh537mor5bdgq1sli8bdkbr\n",
            "Connecting to docs.google.com (docs.google.com)|108.177.97.100|:443... connected.\n",
            "HTTP request sent, awaiting response... 302 Found\n",
            "Location: https://doc-0o-2o-docs.googleusercontent.com/docs/securesc/4ok50s6omgbjno8gnrct2op4q5tdd0m8/jmt2sfu078312dh46gctvmv2utaqjgn9/1588215150000/02012202667471862451/05396124748033419632Z/1g5MPhz2YEW5nyuUqacQ_GVWpeDjVG-Cf?e=download&nonce=nhn3apa5bm6gs&user=05396124748033419632Z&hash=7cn1sggm0rj1n72u95pomiovjif3rcak [following]\n",
            "--2020-04-30 02:53:06--  https://doc-0o-2o-docs.googleusercontent.com/docs/securesc/4ok50s6omgbjno8gnrct2op4q5tdd0m8/jmt2sfu078312dh46gctvmv2utaqjgn9/1588215150000/02012202667471862451/05396124748033419632Z/1g5MPhz2YEW5nyuUqacQ_GVWpeDjVG-Cf?e=download&nonce=nhn3apa5bm6gs&user=05396124748033419632Z&hash=7cn1sggm0rj1n72u95pomiovjif3rcak\n",
            "Connecting to doc-0o-2o-docs.googleusercontent.com (doc-0o-2o-docs.googleusercontent.com)|108.177.125.132|:443... connected.\n",
            "HTTP request sent, awaiting response... 200 OK\n",
            "Length: unspecified [application/zip]\n",
            "Saving to: ‘local/datasets/leaf.zip’\n",
            "\n",
            "local/datasets/leaf     [    <=>             ]  39.92M  46.2MB/s    in 0.9s    \n",
            "\n",
            "2020-04-30 02:53:08 (46.2 MB/s) - ‘local/datasets/leaf.zip’ saved [41861817]\n",
            "\n"
          ],
          "name": "stdout"
        }
      ]
    },
    {
      "cell_type": "code",
      "metadata": {
        "id": "9tohgjSrQ9R7",
        "colab_type": "code",
        "colab": {}
      },
      "source": [
        "if download_data:\n",
        "    unzip_leaf_dataset()"
      ],
      "execution_count": 0,
      "outputs": []
    },
    {
      "cell_type": "markdown",
      "metadata": {
        "id": "HnX_Jj2rTW_j",
        "colab_type": "text"
      },
      "source": [
        "Notebook start"
      ]
    },
    {
      "cell_type": "code",
      "metadata": {
        "id": "MT2-AIrdQMww",
        "colab_type": "code",
        "colab": {}
      },
      "source": [
        "import numpy as np\n",
        "import pandas as pd\n",
        "import matplotlib.pyplot as plt\n",
        "from sklearn.preprocessing import LabelEncoder\n",
        "from sklearn.preprocessing import StandardScaler\n",
        "from sklearn.model_selection import StratifiedShuffleSplit\n",
        "from keras.models import Sequential\n",
        "from keras.layers import Dense, Activation, Flatten, Convolution1D, Dropout\n",
        "from keras.optimizers import SGD\n",
        "from keras.utils import np_utils\n",
        "import warnings; warnings.simplefilter('ignore')\n",
        "import tensorflow as tf"
      ],
      "execution_count": 0,
      "outputs": []
    },
    {
      "cell_type": "code",
      "metadata": {
        "id": "5rugCtUFQMw2",
        "colab_type": "code",
        "colab": {}
      },
      "source": [
        "data_dir = \"./local/datasets/\""
      ],
      "execution_count": 0,
      "outputs": []
    },
    {
      "cell_type": "code",
      "metadata": {
        "id": "o7osIsm_tRr4",
        "colab_type": "code",
        "colab": {}
      },
      "source": [
        "# split=0.7\n",
        "# X_train_f, _, X_train_ri, y_train, X_test_f, _, X_test_ri, y_test, species, num_classes, _, _ = lib.get_splitted_data(data_dir=data_dir, check_id_sets=True, verbose=1, use_resize_images=True, split=split)"
      ],
      "execution_count": 0,
      "outputs": []
    },
    {
      "cell_type": "code",
      "metadata": {
        "id": "ST4PC4COQMw6",
        "colab_type": "code",
        "colab": {}
      },
      "source": [
        "train = pd.read_csv(data_dir+\"/train.csv\")\n",
        "test = pd.read_csv(data_dir+\"/test.csv\")"
      ],
      "execution_count": 0,
      "outputs": []
    },
    {
      "cell_type": "code",
      "metadata": {
        "id": "XH8auwPaUjd2",
        "colab_type": "code",
        "outputId": "d89fd91c-9d7e-4f1e-e61a-fccecb535ab1",
        "colab": {
          "base_uri": "https://localhost:8080/",
          "height": 251
        }
      },
      "source": [
        "train.head()"
      ],
      "execution_count": 106,
      "outputs": [
        {
          "output_type": "execute_result",
          "data": {
            "text/html": [
              "<div>\n",
              "<style scoped>\n",
              "    .dataframe tbody tr th:only-of-type {\n",
              "        vertical-align: middle;\n",
              "    }\n",
              "\n",
              "    .dataframe tbody tr th {\n",
              "        vertical-align: top;\n",
              "    }\n",
              "\n",
              "    .dataframe thead th {\n",
              "        text-align: right;\n",
              "    }\n",
              "</style>\n",
              "<table border=\"1\" class=\"dataframe\">\n",
              "  <thead>\n",
              "    <tr style=\"text-align: right;\">\n",
              "      <th></th>\n",
              "      <th>id</th>\n",
              "      <th>species</th>\n",
              "      <th>margin1</th>\n",
              "      <th>margin2</th>\n",
              "      <th>margin3</th>\n",
              "      <th>margin4</th>\n",
              "      <th>margin5</th>\n",
              "      <th>margin6</th>\n",
              "      <th>margin7</th>\n",
              "      <th>margin8</th>\n",
              "      <th>margin9</th>\n",
              "      <th>margin10</th>\n",
              "      <th>margin11</th>\n",
              "      <th>margin12</th>\n",
              "      <th>margin13</th>\n",
              "      <th>margin14</th>\n",
              "      <th>margin15</th>\n",
              "      <th>margin16</th>\n",
              "      <th>margin17</th>\n",
              "      <th>margin18</th>\n",
              "      <th>margin19</th>\n",
              "      <th>margin20</th>\n",
              "      <th>margin21</th>\n",
              "      <th>margin22</th>\n",
              "      <th>margin23</th>\n",
              "      <th>margin24</th>\n",
              "      <th>margin25</th>\n",
              "      <th>margin26</th>\n",
              "      <th>margin27</th>\n",
              "      <th>margin28</th>\n",
              "      <th>margin29</th>\n",
              "      <th>margin30</th>\n",
              "      <th>margin31</th>\n",
              "      <th>margin32</th>\n",
              "      <th>margin33</th>\n",
              "      <th>margin34</th>\n",
              "      <th>margin35</th>\n",
              "      <th>margin36</th>\n",
              "      <th>margin37</th>\n",
              "      <th>margin38</th>\n",
              "      <th>...</th>\n",
              "      <th>texture25</th>\n",
              "      <th>texture26</th>\n",
              "      <th>texture27</th>\n",
              "      <th>texture28</th>\n",
              "      <th>texture29</th>\n",
              "      <th>texture30</th>\n",
              "      <th>texture31</th>\n",
              "      <th>texture32</th>\n",
              "      <th>texture33</th>\n",
              "      <th>texture34</th>\n",
              "      <th>texture35</th>\n",
              "      <th>texture36</th>\n",
              "      <th>texture37</th>\n",
              "      <th>texture38</th>\n",
              "      <th>texture39</th>\n",
              "      <th>texture40</th>\n",
              "      <th>texture41</th>\n",
              "      <th>texture42</th>\n",
              "      <th>texture43</th>\n",
              "      <th>texture44</th>\n",
              "      <th>texture45</th>\n",
              "      <th>texture46</th>\n",
              "      <th>texture47</th>\n",
              "      <th>texture48</th>\n",
              "      <th>texture49</th>\n",
              "      <th>texture50</th>\n",
              "      <th>texture51</th>\n",
              "      <th>texture52</th>\n",
              "      <th>texture53</th>\n",
              "      <th>texture54</th>\n",
              "      <th>texture55</th>\n",
              "      <th>texture56</th>\n",
              "      <th>texture57</th>\n",
              "      <th>texture58</th>\n",
              "      <th>texture59</th>\n",
              "      <th>texture60</th>\n",
              "      <th>texture61</th>\n",
              "      <th>texture62</th>\n",
              "      <th>texture63</th>\n",
              "      <th>texture64</th>\n",
              "    </tr>\n",
              "  </thead>\n",
              "  <tbody>\n",
              "    <tr>\n",
              "      <th>0</th>\n",
              "      <td>1</td>\n",
              "      <td>Acer_Opalus</td>\n",
              "      <td>0.007812</td>\n",
              "      <td>0.023438</td>\n",
              "      <td>0.023438</td>\n",
              "      <td>0.003906</td>\n",
              "      <td>0.011719</td>\n",
              "      <td>0.009766</td>\n",
              "      <td>0.027344</td>\n",
              "      <td>0.0</td>\n",
              "      <td>0.001953</td>\n",
              "      <td>0.033203</td>\n",
              "      <td>0.013672</td>\n",
              "      <td>0.019531</td>\n",
              "      <td>0.066406</td>\n",
              "      <td>0.000000</td>\n",
              "      <td>0.029297</td>\n",
              "      <td>0.0</td>\n",
              "      <td>0.031250</td>\n",
              "      <td>0.011719</td>\n",
              "      <td>0.000000</td>\n",
              "      <td>0.025391</td>\n",
              "      <td>0.023438</td>\n",
              "      <td>0.001953</td>\n",
              "      <td>0.0</td>\n",
              "      <td>0.015625</td>\n",
              "      <td>0.000000</td>\n",
              "      <td>0.031250</td>\n",
              "      <td>0.000000</td>\n",
              "      <td>0.013672</td>\n",
              "      <td>0.029297</td>\n",
              "      <td>0.015625</td>\n",
              "      <td>0.011719</td>\n",
              "      <td>0.003906</td>\n",
              "      <td>0.025391</td>\n",
              "      <td>0.000000</td>\n",
              "      <td>0.001953</td>\n",
              "      <td>0.011719</td>\n",
              "      <td>0.009766</td>\n",
              "      <td>0.041016</td>\n",
              "      <td>...</td>\n",
              "      <td>0.008789</td>\n",
              "      <td>0.015625</td>\n",
              "      <td>0.044922</td>\n",
              "      <td>0.000000</td>\n",
              "      <td>0.037109</td>\n",
              "      <td>0.012695</td>\n",
              "      <td>0.028320</td>\n",
              "      <td>0.000000</td>\n",
              "      <td>0.019531</td>\n",
              "      <td>0.026367</td>\n",
              "      <td>0.005859</td>\n",
              "      <td>0.0</td>\n",
              "      <td>0.004883</td>\n",
              "      <td>0.016602</td>\n",
              "      <td>0.034180</td>\n",
              "      <td>0.056641</td>\n",
              "      <td>0.006836</td>\n",
              "      <td>0.000977</td>\n",
              "      <td>0.022461</td>\n",
              "      <td>0.037109</td>\n",
              "      <td>0.004883</td>\n",
              "      <td>0.021484</td>\n",
              "      <td>0.035156</td>\n",
              "      <td>0.000977</td>\n",
              "      <td>0.004883</td>\n",
              "      <td>0.015625</td>\n",
              "      <td>0.000000</td>\n",
              "      <td>0.0</td>\n",
              "      <td>0.006836</td>\n",
              "      <td>0.037109</td>\n",
              "      <td>0.007812</td>\n",
              "      <td>0.000000</td>\n",
              "      <td>0.002930</td>\n",
              "      <td>0.002930</td>\n",
              "      <td>0.035156</td>\n",
              "      <td>0.0</td>\n",
              "      <td>0.0</td>\n",
              "      <td>0.004883</td>\n",
              "      <td>0.000000</td>\n",
              "      <td>0.025391</td>\n",
              "    </tr>\n",
              "    <tr>\n",
              "      <th>1</th>\n",
              "      <td>2</td>\n",
              "      <td>Pterocarya_Stenoptera</td>\n",
              "      <td>0.005859</td>\n",
              "      <td>0.000000</td>\n",
              "      <td>0.031250</td>\n",
              "      <td>0.015625</td>\n",
              "      <td>0.025391</td>\n",
              "      <td>0.001953</td>\n",
              "      <td>0.019531</td>\n",
              "      <td>0.0</td>\n",
              "      <td>0.000000</td>\n",
              "      <td>0.007812</td>\n",
              "      <td>0.003906</td>\n",
              "      <td>0.027344</td>\n",
              "      <td>0.023438</td>\n",
              "      <td>0.000000</td>\n",
              "      <td>0.033203</td>\n",
              "      <td>0.0</td>\n",
              "      <td>0.009766</td>\n",
              "      <td>0.009766</td>\n",
              "      <td>0.007812</td>\n",
              "      <td>0.007812</td>\n",
              "      <td>0.019531</td>\n",
              "      <td>0.007812</td>\n",
              "      <td>0.0</td>\n",
              "      <td>0.000000</td>\n",
              "      <td>0.007812</td>\n",
              "      <td>0.027344</td>\n",
              "      <td>0.003906</td>\n",
              "      <td>0.037109</td>\n",
              "      <td>0.007812</td>\n",
              "      <td>0.048828</td>\n",
              "      <td>0.054688</td>\n",
              "      <td>0.027344</td>\n",
              "      <td>0.003906</td>\n",
              "      <td>0.000000</td>\n",
              "      <td>0.000000</td>\n",
              "      <td>0.003906</td>\n",
              "      <td>0.013672</td>\n",
              "      <td>0.033203</td>\n",
              "      <td>...</td>\n",
              "      <td>0.050781</td>\n",
              "      <td>0.001953</td>\n",
              "      <td>0.021484</td>\n",
              "      <td>0.003906</td>\n",
              "      <td>0.027344</td>\n",
              "      <td>0.023438</td>\n",
              "      <td>0.062500</td>\n",
              "      <td>0.000000</td>\n",
              "      <td>0.038086</td>\n",
              "      <td>0.000000</td>\n",
              "      <td>0.019531</td>\n",
              "      <td>0.0</td>\n",
              "      <td>0.001953</td>\n",
              "      <td>0.003906</td>\n",
              "      <td>0.015625</td>\n",
              "      <td>0.004883</td>\n",
              "      <td>0.104490</td>\n",
              "      <td>0.000000</td>\n",
              "      <td>0.061523</td>\n",
              "      <td>0.007812</td>\n",
              "      <td>0.008789</td>\n",
              "      <td>0.013672</td>\n",
              "      <td>0.011719</td>\n",
              "      <td>0.001953</td>\n",
              "      <td>0.035156</td>\n",
              "      <td>0.007812</td>\n",
              "      <td>0.000000</td>\n",
              "      <td>0.0</td>\n",
              "      <td>0.053711</td>\n",
              "      <td>0.036133</td>\n",
              "      <td>0.000977</td>\n",
              "      <td>0.000000</td>\n",
              "      <td>0.000000</td>\n",
              "      <td>0.000977</td>\n",
              "      <td>0.023438</td>\n",
              "      <td>0.0</td>\n",
              "      <td>0.0</td>\n",
              "      <td>0.000977</td>\n",
              "      <td>0.039062</td>\n",
              "      <td>0.022461</td>\n",
              "    </tr>\n",
              "    <tr>\n",
              "      <th>2</th>\n",
              "      <td>3</td>\n",
              "      <td>Quercus_Hartwissiana</td>\n",
              "      <td>0.005859</td>\n",
              "      <td>0.009766</td>\n",
              "      <td>0.019531</td>\n",
              "      <td>0.007812</td>\n",
              "      <td>0.003906</td>\n",
              "      <td>0.005859</td>\n",
              "      <td>0.068359</td>\n",
              "      <td>0.0</td>\n",
              "      <td>0.000000</td>\n",
              "      <td>0.044922</td>\n",
              "      <td>0.007812</td>\n",
              "      <td>0.011719</td>\n",
              "      <td>0.021484</td>\n",
              "      <td>0.001953</td>\n",
              "      <td>0.025391</td>\n",
              "      <td>0.0</td>\n",
              "      <td>0.009766</td>\n",
              "      <td>0.011719</td>\n",
              "      <td>0.007812</td>\n",
              "      <td>0.005859</td>\n",
              "      <td>0.041016</td>\n",
              "      <td>0.001953</td>\n",
              "      <td>0.0</td>\n",
              "      <td>0.015625</td>\n",
              "      <td>0.000000</td>\n",
              "      <td>0.009766</td>\n",
              "      <td>0.001953</td>\n",
              "      <td>0.009766</td>\n",
              "      <td>0.009766</td>\n",
              "      <td>0.015625</td>\n",
              "      <td>0.005859</td>\n",
              "      <td>0.000000</td>\n",
              "      <td>0.017578</td>\n",
              "      <td>0.007812</td>\n",
              "      <td>0.005859</td>\n",
              "      <td>0.009766</td>\n",
              "      <td>0.019531</td>\n",
              "      <td>0.042969</td>\n",
              "      <td>...</td>\n",
              "      <td>0.000977</td>\n",
              "      <td>0.000000</td>\n",
              "      <td>0.000977</td>\n",
              "      <td>0.003906</td>\n",
              "      <td>0.035156</td>\n",
              "      <td>0.015625</td>\n",
              "      <td>0.027344</td>\n",
              "      <td>0.000000</td>\n",
              "      <td>0.000000</td>\n",
              "      <td>0.008789</td>\n",
              "      <td>0.015625</td>\n",
              "      <td>0.0</td>\n",
              "      <td>0.000000</td>\n",
              "      <td>0.011719</td>\n",
              "      <td>0.000977</td>\n",
              "      <td>0.000977</td>\n",
              "      <td>0.000000</td>\n",
              "      <td>0.000000</td>\n",
              "      <td>0.000000</td>\n",
              "      <td>0.005859</td>\n",
              "      <td>0.022461</td>\n",
              "      <td>0.020508</td>\n",
              "      <td>0.021484</td>\n",
              "      <td>0.056641</td>\n",
              "      <td>0.010742</td>\n",
              "      <td>0.008789</td>\n",
              "      <td>0.000000</td>\n",
              "      <td>0.0</td>\n",
              "      <td>0.000977</td>\n",
              "      <td>0.000000</td>\n",
              "      <td>0.154300</td>\n",
              "      <td>0.000000</td>\n",
              "      <td>0.005859</td>\n",
              "      <td>0.000977</td>\n",
              "      <td>0.007812</td>\n",
              "      <td>0.0</td>\n",
              "      <td>0.0</td>\n",
              "      <td>0.000000</td>\n",
              "      <td>0.020508</td>\n",
              "      <td>0.002930</td>\n",
              "    </tr>\n",
              "    <tr>\n",
              "      <th>3</th>\n",
              "      <td>5</td>\n",
              "      <td>Tilia_Tomentosa</td>\n",
              "      <td>0.000000</td>\n",
              "      <td>0.003906</td>\n",
              "      <td>0.023438</td>\n",
              "      <td>0.005859</td>\n",
              "      <td>0.021484</td>\n",
              "      <td>0.019531</td>\n",
              "      <td>0.023438</td>\n",
              "      <td>0.0</td>\n",
              "      <td>0.013672</td>\n",
              "      <td>0.017578</td>\n",
              "      <td>0.001953</td>\n",
              "      <td>0.019531</td>\n",
              "      <td>0.001953</td>\n",
              "      <td>0.003906</td>\n",
              "      <td>0.035156</td>\n",
              "      <td>0.0</td>\n",
              "      <td>0.005859</td>\n",
              "      <td>0.000000</td>\n",
              "      <td>0.001953</td>\n",
              "      <td>0.003906</td>\n",
              "      <td>0.039062</td>\n",
              "      <td>0.009766</td>\n",
              "      <td>0.0</td>\n",
              "      <td>0.009766</td>\n",
              "      <td>0.005859</td>\n",
              "      <td>0.027344</td>\n",
              "      <td>0.001953</td>\n",
              "      <td>0.017578</td>\n",
              "      <td>0.003906</td>\n",
              "      <td>0.021484</td>\n",
              "      <td>0.027344</td>\n",
              "      <td>0.027344</td>\n",
              "      <td>0.000000</td>\n",
              "      <td>0.003906</td>\n",
              "      <td>0.011719</td>\n",
              "      <td>0.003906</td>\n",
              "      <td>0.005859</td>\n",
              "      <td>0.044922</td>\n",
              "      <td>...</td>\n",
              "      <td>0.005859</td>\n",
              "      <td>0.019531</td>\n",
              "      <td>0.124020</td>\n",
              "      <td>0.000000</td>\n",
              "      <td>0.017578</td>\n",
              "      <td>0.000977</td>\n",
              "      <td>0.016602</td>\n",
              "      <td>0.009766</td>\n",
              "      <td>0.006836</td>\n",
              "      <td>0.000977</td>\n",
              "      <td>0.005859</td>\n",
              "      <td>0.0</td>\n",
              "      <td>0.000977</td>\n",
              "      <td>0.001953</td>\n",
              "      <td>0.096680</td>\n",
              "      <td>0.016602</td>\n",
              "      <td>0.126950</td>\n",
              "      <td>0.000000</td>\n",
              "      <td>0.036133</td>\n",
              "      <td>0.055664</td>\n",
              "      <td>0.000000</td>\n",
              "      <td>0.001953</td>\n",
              "      <td>0.027344</td>\n",
              "      <td>0.000000</td>\n",
              "      <td>0.006836</td>\n",
              "      <td>0.017578</td>\n",
              "      <td>0.004883</td>\n",
              "      <td>0.0</td>\n",
              "      <td>0.006836</td>\n",
              "      <td>0.022461</td>\n",
              "      <td>0.000000</td>\n",
              "      <td>0.000977</td>\n",
              "      <td>0.000000</td>\n",
              "      <td>0.000000</td>\n",
              "      <td>0.020508</td>\n",
              "      <td>0.0</td>\n",
              "      <td>0.0</td>\n",
              "      <td>0.017578</td>\n",
              "      <td>0.000000</td>\n",
              "      <td>0.047852</td>\n",
              "    </tr>\n",
              "    <tr>\n",
              "      <th>4</th>\n",
              "      <td>6</td>\n",
              "      <td>Quercus_Variabilis</td>\n",
              "      <td>0.005859</td>\n",
              "      <td>0.003906</td>\n",
              "      <td>0.048828</td>\n",
              "      <td>0.009766</td>\n",
              "      <td>0.013672</td>\n",
              "      <td>0.015625</td>\n",
              "      <td>0.005859</td>\n",
              "      <td>0.0</td>\n",
              "      <td>0.000000</td>\n",
              "      <td>0.005859</td>\n",
              "      <td>0.001953</td>\n",
              "      <td>0.044922</td>\n",
              "      <td>0.041016</td>\n",
              "      <td>0.011719</td>\n",
              "      <td>0.041016</td>\n",
              "      <td>0.0</td>\n",
              "      <td>0.009766</td>\n",
              "      <td>0.015625</td>\n",
              "      <td>0.011719</td>\n",
              "      <td>0.007812</td>\n",
              "      <td>0.021484</td>\n",
              "      <td>0.000000</td>\n",
              "      <td>0.0</td>\n",
              "      <td>0.000000</td>\n",
              "      <td>0.015625</td>\n",
              "      <td>0.009766</td>\n",
              "      <td>0.001953</td>\n",
              "      <td>0.017578</td>\n",
              "      <td>0.041016</td>\n",
              "      <td>0.005859</td>\n",
              "      <td>0.021484</td>\n",
              "      <td>0.013672</td>\n",
              "      <td>0.017578</td>\n",
              "      <td>0.000000</td>\n",
              "      <td>0.005859</td>\n",
              "      <td>0.009766</td>\n",
              "      <td>0.027344</td>\n",
              "      <td>0.083984</td>\n",
              "      <td>...</td>\n",
              "      <td>0.000000</td>\n",
              "      <td>0.000000</td>\n",
              "      <td>0.040039</td>\n",
              "      <td>0.005859</td>\n",
              "      <td>0.005859</td>\n",
              "      <td>0.000000</td>\n",
              "      <td>0.003906</td>\n",
              "      <td>0.000000</td>\n",
              "      <td>0.000000</td>\n",
              "      <td>0.110350</td>\n",
              "      <td>0.000000</td>\n",
              "      <td>0.0</td>\n",
              "      <td>0.000000</td>\n",
              "      <td>0.087891</td>\n",
              "      <td>0.023438</td>\n",
              "      <td>0.007812</td>\n",
              "      <td>0.000000</td>\n",
              "      <td>0.000000</td>\n",
              "      <td>0.008789</td>\n",
              "      <td>0.017578</td>\n",
              "      <td>0.021484</td>\n",
              "      <td>0.061523</td>\n",
              "      <td>0.026367</td>\n",
              "      <td>0.132810</td>\n",
              "      <td>0.000000</td>\n",
              "      <td>0.000000</td>\n",
              "      <td>0.000000</td>\n",
              "      <td>0.0</td>\n",
              "      <td>0.000000</td>\n",
              "      <td>0.001953</td>\n",
              "      <td>0.096680</td>\n",
              "      <td>0.000000</td>\n",
              "      <td>0.021484</td>\n",
              "      <td>0.000000</td>\n",
              "      <td>0.000000</td>\n",
              "      <td>0.0</td>\n",
              "      <td>0.0</td>\n",
              "      <td>0.000000</td>\n",
              "      <td>0.000000</td>\n",
              "      <td>0.031250</td>\n",
              "    </tr>\n",
              "  </tbody>\n",
              "</table>\n",
              "<p>5 rows × 194 columns</p>\n",
              "</div>"
            ],
            "text/plain": [
              "   id                species   margin1  ...  texture62  texture63  texture64\n",
              "0   1            Acer_Opalus  0.007812  ...   0.004883   0.000000   0.025391\n",
              "1   2  Pterocarya_Stenoptera  0.005859  ...   0.000977   0.039062   0.022461\n",
              "2   3   Quercus_Hartwissiana  0.005859  ...   0.000000   0.020508   0.002930\n",
              "3   5        Tilia_Tomentosa  0.000000  ...   0.017578   0.000000   0.047852\n",
              "4   6     Quercus_Variabilis  0.005859  ...   0.000000   0.000000   0.031250\n",
              "\n",
              "[5 rows x 194 columns]"
            ]
          },
          "metadata": {
            "tags": []
          },
          "execution_count": 106
        }
      ]
    },
    {
      "cell_type": "code",
      "metadata": {
        "id": "MaRiTOEdQMw9",
        "colab_type": "code",
        "colab": {}
      },
      "source": [
        "def encode(train, test):\n",
        "    label_encoder = LabelEncoder().fit(train.species)#sklearn class used to transform non-numerical labels to numerical labels. \n",
        "    labels = label_encoder.transform(train.species)#Fit label encoder and return encoded labels\n",
        "    classes = list(label_encoder.classes_)\n",
        "\n",
        "    train = train.drop(['species', 'id'], axis=1)\n",
        "    test = test.drop('id', axis=1)\n",
        "\n",
        "    return train, labels, test, classes \n",
        "  "
      ],
      "execution_count": 0,
      "outputs": []
    },
    {
      "cell_type": "code",
      "metadata": {
        "id": "nQ5zbqbUQMxB",
        "colab_type": "code",
        "colab": {}
      },
      "source": [
        "train1, labels, test, classes = encode(train, test)"
      ],
      "execution_count": 0,
      "outputs": []
    },
    {
      "cell_type": "code",
      "metadata": {
        "id": "UxZ_W7QVQMxI",
        "colab_type": "code",
        "colab": {}
      },
      "source": [
        "# standardize train features\n",
        "scaler = StandardScaler().fit(train1.values)\n",
        "scaled_train = scaler.transform(train1.values)"
      ],
      "execution_count": 0,
      "outputs": []
    },
    {
      "cell_type": "code",
      "metadata": {
        "id": "8ieFtenPQMxN",
        "colab_type": "code",
        "colab": {}
      },
      "source": [
        "# split train data into train and validation\n",
        "sss = StratifiedShuffleSplit(test_size=0.1, random_state=23)\n",
        "for train_index, valid_index in sss.split(scaled_train, labels):\n",
        "    X_train, X_valid = scaled_train[train_index], scaled_train[valid_index]\n",
        "    y_train, y_valid = labels[train_index], labels[valid_index]"
      ],
      "execution_count": 0,
      "outputs": []
    },
    {
      "cell_type": "code",
      "metadata": {
        "id": "NfTKISPDQMxS",
        "colab_type": "code",
        "outputId": "49eea108-fb40-4970-f450-6e336441a75e",
        "colab": {
          "base_uri": "https://localhost:8080/",
          "height": 35
        }
      },
      "source": [
        "nb_features = 64\n",
        "X_train.shape ,X_valid.shape"
      ],
      "execution_count": 111,
      "outputs": [
        {
          "output_type": "execute_result",
          "data": {
            "text/plain": [
              "((891, 192), (99, 192))"
            ]
          },
          "metadata": {
            "tags": []
          },
          "execution_count": 111
        }
      ]
    },
    {
      "cell_type": "markdown",
      "metadata": {
        "id": "sJBpqQqMQMxX",
        "colab_type": "text"
      },
      "source": [
        "### number of features per features type (shape, texture, margin)"
      ]
    },
    {
      "cell_type": "code",
      "metadata": {
        "id": "-q_GWkJbQMxY",
        "colab_type": "code",
        "outputId": "0f10937a-4cec-4599-eceb-235535894c5f",
        "colab": {
          "base_uri": "https://localhost:8080/",
          "height": 35
        }
      },
      "source": [
        "nb_class = len(classes)\n",
        "nb_class  "
      ],
      "execution_count": 112,
      "outputs": [
        {
          "output_type": "execute_result",
          "data": {
            "text/plain": [
              "99"
            ]
          },
          "metadata": {
            "tags": []
          },
          "execution_count": 112
        }
      ]
    },
    {
      "cell_type": "code",
      "metadata": {
        "id": "s7O_HpmEQMxc",
        "colab_type": "code",
        "colab": {}
      },
      "source": [
        "# reshape train data\n",
        "X_train_r = np.zeros((len(X_train), nb_features, 3))\n",
        "X_train_r[:, :, 0] = X_train[:, :nb_features]\n",
        "X_train_r[:, :, 1] = X_train[:, nb_features:128]\n",
        "X_train_r[:, :, 2] = X_train[:, 128:]"
      ],
      "execution_count": 0,
      "outputs": []
    },
    {
      "cell_type": "code",
      "metadata": {
        "id": "gZEOBDWGQMxh",
        "colab_type": "code",
        "colab": {}
      },
      "source": [
        "# reshape validation data\n",
        "X_valid_r = np.zeros((len(X_valid), nb_features, 3))\n",
        "X_valid_r[:, :, 0] = X_valid[:, :nb_features]\n",
        "X_valid_r[:, :, 1] = X_valid[:, nb_features:128]\n",
        "X_valid_r[:, :, 2] = X_valid[:, 128:]"
      ],
      "execution_count": 0,
      "outputs": []
    },
    {
      "cell_type": "code",
      "metadata": {
        "id": "YdhQ-ZIENokd",
        "colab_type": "code",
        "colab": {}
      },
      "source": [
        "# del model"
      ],
      "execution_count": 0,
      "outputs": []
    },
    {
      "cell_type": "code",
      "metadata": {
        "id": "i1lLFyTeQMxk",
        "colab_type": "code",
        "colab": {}
      },
      "source": [
        "# Keras model with one Convolution1D layer\n",
        "# unfortunately more number of covnolutional layers, filters and filters lenght \n",
        "# don't give better accuracy\n",
        "model = Sequential()\n",
        "model.add(Convolution1D(nb_filter=512, filter_length=1, input_shape=(nb_features, 3)))\n",
        "model.add(Activation('relu'))\n",
        "model.add(Flatten())\n",
        "model.add(Dropout(0.4))\n",
        "model.add(Dense(2048, activation='relu'))\n",
        "model.add(Dense(1024, activation='relu'))\n",
        "model.add(Dense(nb_class))\n",
        "model.add(Activation('softmax'))"
      ],
      "execution_count": 0,
      "outputs": []
    },
    {
      "cell_type": "code",
      "metadata": {
        "id": "YSp9V-edQMxn",
        "colab_type": "code",
        "colab": {}
      },
      "source": [
        "y_train = np_utils.to_categorical(y_train, nb_class)\n",
        "y_valid = np_utils.to_categorical(y_valid, nb_class)"
      ],
      "execution_count": 0,
      "outputs": []
    },
    {
      "cell_type": "markdown",
      "metadata": {
        "id": "LsshXIc8NA3I",
        "colab_type": "text"
      },
      "source": [
        "Train model\n",
        "  "
      ]
    },
    {
      "cell_type": "code",
      "metadata": {
        "id": "zgzdTzWJQMxq",
        "colab_type": "code",
        "colab": {}
      },
      "source": [
        "sgd = SGD(lr=0.01, nesterov=True, decay=1e-6, momentum=0.9)\n",
        "model.compile(loss='categorical_crossentropy',optimizer=sgd,metrics=['accuracy'])"
      ],
      "execution_count": 0,
      "outputs": []
    },
    {
      "cell_type": "code",
      "metadata": {
        "id": "03dRXnKHQMxt",
        "colab_type": "code",
        "outputId": "88a05c3c-07df-4ff0-d0a9-150f62ea2e92",
        "colab": {
          "base_uri": "https://localhost:8080/",
          "height": 381
        }
      },
      "source": [
        "epochs = 10\n",
        "history = model.fit(X_train_r, y_train, nb_epoch=epochs, validation_data=(X_valid_r, y_valid), batch_size=10)"
      ],
      "execution_count": 119,
      "outputs": [
        {
          "output_type": "stream",
          "text": [
            "Train on 891 samples, validate on 99 samples\n",
            "Epoch 1/10\n",
            "891/891 [==============================] - 49s 55ms/step - loss: 3.1593 - accuracy: 0.3311 - val_loss: 0.8128 - val_accuracy: 0.8182\n",
            "Epoch 2/10\n",
            "891/891 [==============================] - 48s 54ms/step - loss: 0.5139 - accuracy: 0.8620 - val_loss: 0.5271 - val_accuracy: 0.8990\n",
            "Epoch 3/10\n",
            "891/891 [==============================] - 48s 54ms/step - loss: 0.2106 - accuracy: 0.9551 - val_loss: 0.4195 - val_accuracy: 0.8990\n",
            "Epoch 4/10\n",
            "891/891 [==============================] - 48s 54ms/step - loss: 0.0699 - accuracy: 0.9854 - val_loss: 0.3614 - val_accuracy: 0.9596\n",
            "Epoch 5/10\n",
            "891/891 [==============================] - 48s 54ms/step - loss: 0.0501 - accuracy: 0.9888 - val_loss: 0.1938 - val_accuracy: 0.9495\n",
            "Epoch 6/10\n",
            "891/891 [==============================] - 48s 54ms/step - loss: 0.0059 - accuracy: 0.9989 - val_loss: 0.1088 - val_accuracy: 0.9596\n",
            "Epoch 7/10\n",
            "891/891 [==============================] - 48s 54ms/step - loss: 0.0087 - accuracy: 0.9978 - val_loss: 0.1080 - val_accuracy: 0.9596\n",
            "Epoch 8/10\n",
            "891/891 [==============================] - 48s 54ms/step - loss: 0.0224 - accuracy: 0.9966 - val_loss: 0.1293 - val_accuracy: 0.9495\n",
            "Epoch 9/10\n",
            "891/891 [==============================] - 50s 57ms/step - loss: 0.0040 - accuracy: 0.9989 - val_loss: 0.1137 - val_accuracy: 0.9495\n",
            "Epoch 10/10\n",
            "891/891 [==============================] - 48s 54ms/step - loss: 0.0053 - accuracy: 0.9989 - val_loss: 0.1438 - val_accuracy: 0.9495\n"
          ],
          "name": "stdout"
        }
      ]
    },
    {
      "cell_type": "markdown",
      "metadata": {
        "id": "opJ5TyYaKDae",
        "colab_type": "text"
      },
      "source": [
        "Validation"
      ]
    },
    {
      "cell_type": "code",
      "metadata": {
        "id": "OsBl2qrwdjQN",
        "colab_type": "code",
        "outputId": "2c221bbb-10ca-49b7-8105-4cf6e27d88f6",
        "colab": {
          "base_uri": "https://localhost:8080/",
          "height": 52
        }
      },
      "source": [
        "train_preds = model.predict(X_train_r).argmax(axis=1)\n",
        "test_preds= model.predict( X_valid_r).argmax(axis=1)\n",
        "# test_preds.shape, \n",
        "train_preds\n",
        "train_Accuracy = np.mean(np.eye(99)[train_preds.astype(int)] == y_train)\n",
        "test_Accuracy = np.mean(np.eye(99)[test_preds.astype(int)] == y_valid)\n",
        "print('Train accuracy = ', train_Accuracy*100, '%')\n",
        "print('Test accuracy = ', test_Accuracy*100, '%')"
      ],
      "execution_count": 120,
      "outputs": [
        {
          "output_type": "stream",
          "text": [
            "Train accuracy =  99.99546531533063 %\n",
            "Test accuracy =  99.8979695949393 %\n"
          ],
          "name": "stdout"
        }
      ]
    },
    {
      "cell_type": "code",
      "metadata": {
        "id": "6EzghHf4J-Ze",
        "colab_type": "code",
        "colab": {
          "base_uri": "https://localhost:8080/",
          "height": 245
        },
        "outputId": "83df888b-38e0-49ce-dc36-ce50ae3c8b67"
      },
      "source": [
        "plt.figure(figsize=(10,3))\n",
        "plt.plot(history.history[\"loss\"], label=\"loss\", marker=\"o\")\n",
        "plt.plot(history.history[\"accuracy\"], label=\"accuracy\", marker=\"o\")\n",
        "plt.grid()\n",
        "plt.legend()\n",
        "plt.title(\"Train performance\")"
      ],
      "execution_count": 121,
      "outputs": [
        {
          "output_type": "execute_result",
          "data": {
            "text/plain": [
              "Text(0.5, 1.0, 'Train performance')"
            ]
          },
          "metadata": {
            "tags": []
          },
          "execution_count": 121
        },
        {
          "output_type": "display_data",
          "data": {
            "image/png": "[encoded data removed]",
            "text/plain": [
              "<Figure size 720x216 with 1 Axes>"
            ]
          },
          "metadata": {
            "tags": [],
            "needs_background": "light"
          }
        }
      ]
    },
    {
      "cell_type": "code",
      "metadata": {
        "id": "NnYgc8YNQJrm",
        "colab_type": "code",
        "colab": {}
      },
      "source": [
        ""
      ],
      "execution_count": 0,
      "outputs": []
    }
  ]
}